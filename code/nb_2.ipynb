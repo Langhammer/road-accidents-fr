{
 "cells": [
  {
   "attachments": {},
   "cell_type": "markdown",
   "metadata": {},
   "source": [
    "Notebook 2: Visualization\n",
    "=========================\n",
    "In this notebook, the data will be visualized and analyzed"
   ]
  },
  {
   "attachments": {},
   "cell_type": "markdown",
   "metadata": {},
   "source": [
    "# Time Series"
   ]
  },
  {
   "cell_type": "code",
   "execution_count": null,
   "metadata": {},
   "outputs": [],
   "source": [
    "day_time_ticks = (0,300,600,900,1200,1500,1800,2100,2400)\n",
    "day_time_tick_labels = ('0:00', '03:00','06:00','09:00','12:00','15:00',\n",
    "                   '18:00','21:00','24:00')\n",
    "plot_data = pd.DataFrame({'weekdays': (dict_of_category_dfs['characteristics'][dict_of_category_dfs['characteristics']['is_weekend'] != 1 ])['hhmm'],\n",
    "                 'weekends': (dict_of_category_dfs['characteristics'][dict_of_category_dfs['characteristics']['is_weekend'] == 1 ])['hhmm']})\n",
    "fig= plt.figure();\n",
    "sns.histplot(data=plot_data, stat='proportion', bins=24, binrange=(0,2400), common_norm=False);\n",
    "plt.xticks(ticks=day_time_ticks, \n",
    "           labels=day_time_tick_labels);\n",
    "plt.xlabel('Time of Day')\n",
    "plt.xlim((0,2400))\n",
    "plt.title('Distribution of Accidents by Daytime', pad = 10)"
   ]
  },
  {
   "cell_type": "code",
   "execution_count": null,
   "metadata": {},
   "outputs": [],
   "source": [
    "# TODO"
   ]
  },
  {
   "attachments": {},
   "cell_type": "markdown",
   "metadata": {},
   "source": [
    "# Age and Sex"
   ]
  },
  {
   "cell_type": "code",
   "execution_count": null,
   "metadata": {},
   "outputs": [],
   "source": [
    "# TODO"
   ]
  }
 ],
 "metadata": {
  "kernelspec": {
   "display_name": "pyfra_env_10",
   "language": "python",
   "name": "python3"
  },
  "language_info": {
   "name": "python",
   "version": "3.10.9"
  },
  "orig_nbformat": 4,
  "vscode": {
   "interpreter": {
    "hash": "f2dbc15e99786fa05daecceee0ede0b88523201ccf7de22f0624c6f33b7c5a7c"
   }
  }
 },
 "nbformat": 4,
 "nbformat_minor": 2
}
