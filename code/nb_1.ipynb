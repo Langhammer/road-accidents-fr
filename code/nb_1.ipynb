{
 "cells": [
  {
   "attachments": {},
   "cell_type": "markdown",
   "metadata": {},
   "source": [
    "Notebook 1: Data Cleaning\n",
    "=========================\n",
    "The purpose of this notebook is to\n",
    "1. Import the data\n",
    "2. Clean the data\n",
    "3. Export the data"
   ]
  },
  {
   "cell_type": "code",
   "execution_count": 1,
   "metadata": {},
   "outputs": [],
   "source": [
    "import numpy as np\n",
    "import pandas as pd\n",
    "import matplotlib.pyplot as plt\n",
    "import seaborn as sns\n",
    "\n",
    "import utils"
   ]
  },
  {
   "attachments": {},
   "cell_type": "markdown",
   "metadata": {},
   "source": [
    "# Import Dataset"
   ]
  },
  {
   "cell_type": "code",
   "execution_count": 27,
   "metadata": {},
   "outputs": [
    {
     "data": {
      "text/plain": [
       "<module 'utils' from 'd:\\\\Documents\\\\GitHub\\\\road-accidents-fr\\\\code\\\\utils.py'>"
      ]
     },
     "execution_count": 27,
     "metadata": {},
     "output_type": "execute_result"
    }
   ],
   "source": [
    "import os\n",
    "os.getcwd()\n",
    "import importlib\n",
    "importlib.reload(utils)"
   ]
  },
  {
   "cell_type": "code",
   "execution_count": 28,
   "metadata": {},
   "outputs": [],
   "source": [
    "dfd = utils.read_csv_of_year()"
   ]
  },
  {
   "cell_type": "code",
   "execution_count": 29,
   "metadata": {},
   "outputs": [
    {
     "data": {
      "text/html": [
       "<div>\n",
       "<style scoped>\n",
       "    .dataframe tbody tr th:only-of-type {\n",
       "        vertical-align: middle;\n",
       "    }\n",
       "\n",
       "    .dataframe tbody tr th {\n",
       "        vertical-align: top;\n",
       "    }\n",
       "\n",
       "    .dataframe thead th {\n",
       "        text-align: right;\n",
       "    }\n",
       "</style>\n",
       "<table border=\"1\" class=\"dataframe\">\n",
       "  <thead>\n",
       "    <tr style=\"text-align: right;\">\n",
       "      <th></th>\n",
       "      <th>Num_Acc</th>\n",
       "      <th>an</th>\n",
       "      <th>mois</th>\n",
       "      <th>jour</th>\n",
       "      <th>hrmn</th>\n",
       "      <th>lum</th>\n",
       "      <th>agg</th>\n",
       "      <th>int</th>\n",
       "      <th>atm</th>\n",
       "      <th>col</th>\n",
       "      <th>com</th>\n",
       "      <th>adr</th>\n",
       "      <th>gps</th>\n",
       "      <th>lat</th>\n",
       "      <th>long</th>\n",
       "      <th>dep</th>\n",
       "    </tr>\n",
       "  </thead>\n",
       "  <tbody>\n",
       "    <tr>\n",
       "      <th>0</th>\n",
       "      <td>200500000001</td>\n",
       "      <td>5</td>\n",
       "      <td>1</td>\n",
       "      <td>12</td>\n",
       "      <td>1900</td>\n",
       "      <td>3</td>\n",
       "      <td>2</td>\n",
       "      <td>1</td>\n",
       "      <td>1.0</td>\n",
       "      <td>3.0</td>\n",
       "      <td>11.0</td>\n",
       "      <td>CD41B</td>\n",
       "      <td>M</td>\n",
       "      <td>5051500.0</td>\n",
       "      <td>294400.0</td>\n",
       "      <td>590</td>\n",
       "    </tr>\n",
       "    <tr>\n",
       "      <th>1</th>\n",
       "      <td>200500000002</td>\n",
       "      <td>5</td>\n",
       "      <td>1</td>\n",
       "      <td>21</td>\n",
       "      <td>1600</td>\n",
       "      <td>1</td>\n",
       "      <td>2</td>\n",
       "      <td>1</td>\n",
       "      <td>1.0</td>\n",
       "      <td>1.0</td>\n",
       "      <td>51.0</td>\n",
       "      <td>rue de Lille</td>\n",
       "      <td>M</td>\n",
       "      <td>5053700.0</td>\n",
       "      <td>280200.0</td>\n",
       "      <td>590</td>\n",
       "    </tr>\n",
       "    <tr>\n",
       "      <th>2</th>\n",
       "      <td>200500000003</td>\n",
       "      <td>5</td>\n",
       "      <td>1</td>\n",
       "      <td>21</td>\n",
       "      <td>1845</td>\n",
       "      <td>3</td>\n",
       "      <td>1</td>\n",
       "      <td>1</td>\n",
       "      <td>2.0</td>\n",
       "      <td>1.0</td>\n",
       "      <td>51.0</td>\n",
       "      <td>NaN</td>\n",
       "      <td>M</td>\n",
       "      <td>5054600.0</td>\n",
       "      <td>280000.0</td>\n",
       "      <td>590</td>\n",
       "    </tr>\n",
       "    <tr>\n",
       "      <th>3</th>\n",
       "      <td>200500000004</td>\n",
       "      <td>5</td>\n",
       "      <td>1</td>\n",
       "      <td>4</td>\n",
       "      <td>1615</td>\n",
       "      <td>1</td>\n",
       "      <td>1</td>\n",
       "      <td>1</td>\n",
       "      <td>1.0</td>\n",
       "      <td>5.0</td>\n",
       "      <td>82.0</td>\n",
       "      <td>NaN</td>\n",
       "      <td>M</td>\n",
       "      <td>5098700.0</td>\n",
       "      <td>240800.0</td>\n",
       "      <td>590</td>\n",
       "    </tr>\n",
       "    <tr>\n",
       "      <th>4</th>\n",
       "      <td>200500000005</td>\n",
       "      <td>5</td>\n",
       "      <td>1</td>\n",
       "      <td>10</td>\n",
       "      <td>1945</td>\n",
       "      <td>3</td>\n",
       "      <td>1</td>\n",
       "      <td>1</td>\n",
       "      <td>3.0</td>\n",
       "      <td>6.0</td>\n",
       "      <td>478.0</td>\n",
       "      <td>NaN</td>\n",
       "      <td>M</td>\n",
       "      <td>5096400.0</td>\n",
       "      <td>247500.0</td>\n",
       "      <td>590</td>\n",
       "    </tr>\n",
       "    <tr>\n",
       "      <th>...</th>\n",
       "      <td>...</td>\n",
       "      <td>...</td>\n",
       "      <td>...</td>\n",
       "      <td>...</td>\n",
       "      <td>...</td>\n",
       "      <td>...</td>\n",
       "      <td>...</td>\n",
       "      <td>...</td>\n",
       "      <td>...</td>\n",
       "      <td>...</td>\n",
       "      <td>...</td>\n",
       "      <td>...</td>\n",
       "      <td>...</td>\n",
       "      <td>...</td>\n",
       "      <td>...</td>\n",
       "      <td>...</td>\n",
       "    </tr>\n",
       "    <tr>\n",
       "      <th>1121566</th>\n",
       "      <td>202100056514</td>\n",
       "      <td>2021</td>\n",
       "      <td>1</td>\n",
       "      <td>1</td>\n",
       "      <td>06:10</td>\n",
       "      <td>3</td>\n",
       "      <td>1</td>\n",
       "      <td>1</td>\n",
       "      <td>5.0</td>\n",
       "      <td>6.0</td>\n",
       "      <td>33021</td>\n",
       "      <td>NaN</td>\n",
       "      <td>NaN</td>\n",
       "      <td>44,5266190000</td>\n",
       "      <td>-0,1955440000</td>\n",
       "      <td>33</td>\n",
       "    </tr>\n",
       "    <tr>\n",
       "      <th>1121567</th>\n",
       "      <td>202100056515</td>\n",
       "      <td>2021</td>\n",
       "      <td>1</td>\n",
       "      <td>1</td>\n",
       "      <td>10:20</td>\n",
       "      <td>1</td>\n",
       "      <td>1</td>\n",
       "      <td>1</td>\n",
       "      <td>2.0</td>\n",
       "      <td>6.0</td>\n",
       "      <td>38405</td>\n",
       "      <td>D520</td>\n",
       "      <td>NaN</td>\n",
       "      <td>45,3802910000</td>\n",
       "      <td>5,7049140000</td>\n",
       "      <td>38</td>\n",
       "    </tr>\n",
       "    <tr>\n",
       "      <th>1121568</th>\n",
       "      <td>202100056516</td>\n",
       "      <td>2021</td>\n",
       "      <td>1</td>\n",
       "      <td>1</td>\n",
       "      <td>18:00</td>\n",
       "      <td>3</td>\n",
       "      <td>1</td>\n",
       "      <td>1</td>\n",
       "      <td>2.0</td>\n",
       "      <td>1.0</td>\n",
       "      <td>26064</td>\n",
       "      <td>Route dÃ©partementale 538</td>\n",
       "      <td>NaN</td>\n",
       "      <td>44,9112100000</td>\n",
       "      <td>5,0196360000</td>\n",
       "      <td>26</td>\n",
       "    </tr>\n",
       "    <tr>\n",
       "      <th>1121569</th>\n",
       "      <td>202100056517</td>\n",
       "      <td>2021</td>\n",
       "      <td>1</td>\n",
       "      <td>1</td>\n",
       "      <td>10:55</td>\n",
       "      <td>1</td>\n",
       "      <td>1</td>\n",
       "      <td>2</td>\n",
       "      <td>1.0</td>\n",
       "      <td>6.0</td>\n",
       "      <td>33003</td>\n",
       "      <td>Voie rapide Bassens Ambes</td>\n",
       "      <td>NaN</td>\n",
       "      <td>44,9542747363</td>\n",
       "      <td>-0,5179211363</td>\n",
       "      <td>33</td>\n",
       "    </tr>\n",
       "    <tr>\n",
       "      <th>1121570</th>\n",
       "      <td>202100056518</td>\n",
       "      <td>2021</td>\n",
       "      <td>1</td>\n",
       "      <td>2</td>\n",
       "      <td>18:00</td>\n",
       "      <td>3</td>\n",
       "      <td>1</td>\n",
       "      <td>1</td>\n",
       "      <td>3.0</td>\n",
       "      <td>1.0</td>\n",
       "      <td>78423</td>\n",
       "      <td>VOLTA (AVENUE)</td>\n",
       "      <td>NaN</td>\n",
       "      <td>48,7966700000</td>\n",
       "      <td>2,0505000000</td>\n",
       "      <td>78</td>\n",
       "    </tr>\n",
       "  </tbody>\n",
       "</table>\n",
       "<p>1121571 rows × 16 columns</p>\n",
       "</div>"
      ],
      "text/plain": [
       "              Num_Acc    an  mois  jour   hrmn  lum  agg  int  atm  col  \\\n",
       "0        200500000001     5     1    12   1900    3    2    1  1.0  3.0   \n",
       "1        200500000002     5     1    21   1600    1    2    1  1.0  1.0   \n",
       "2        200500000003     5     1    21   1845    3    1    1  2.0  1.0   \n",
       "3        200500000004     5     1     4   1615    1    1    1  1.0  5.0   \n",
       "4        200500000005     5     1    10   1945    3    1    1  3.0  6.0   \n",
       "...               ...   ...   ...   ...    ...  ...  ...  ...  ...  ...   \n",
       "1121566  202100056514  2021     1     1  06:10    3    1    1  5.0  6.0   \n",
       "1121567  202100056515  2021     1     1  10:20    1    1    1  2.0  6.0   \n",
       "1121568  202100056516  2021     1     1  18:00    3    1    1  2.0  1.0   \n",
       "1121569  202100056517  2021     1     1  10:55    1    1    2  1.0  6.0   \n",
       "1121570  202100056518  2021     1     2  18:00    3    1    1  3.0  1.0   \n",
       "\n",
       "           com                        adr  gps            lat            long  \\\n",
       "0         11.0                      CD41B    M      5051500.0        294400.0   \n",
       "1         51.0               rue de Lille    M      5053700.0        280200.0   \n",
       "2         51.0                        NaN    M      5054600.0        280000.0   \n",
       "3         82.0                        NaN    M      5098700.0        240800.0   \n",
       "4        478.0                        NaN    M      5096400.0        247500.0   \n",
       "...        ...                        ...  ...            ...             ...   \n",
       "1121566  33021                        NaN  NaN  44,5266190000   -0,1955440000   \n",
       "1121567  38405                       D520  NaN  45,3802910000    5,7049140000   \n",
       "1121568  26064  Route dÃ©partementale 538  NaN  44,9112100000    5,0196360000   \n",
       "1121569  33003  Voie rapide Bassens Ambes  NaN  44,9542747363   -0,5179211363   \n",
       "1121570  78423             VOLTA (AVENUE)  NaN  48,7966700000    2,0505000000   \n",
       "\n",
       "         dep  \n",
       "0        590  \n",
       "1        590  \n",
       "2        590  \n",
       "3        590  \n",
       "4        590  \n",
       "...      ...  \n",
       "1121566   33  \n",
       "1121567   38  \n",
       "1121568   26  \n",
       "1121569   33  \n",
       "1121570   78  \n",
       "\n",
       "[1121571 rows x 16 columns]"
      ]
     },
     "execution_count": 29,
     "metadata": {},
     "output_type": "execute_result"
    }
   ],
   "source": [
    "dfd['characteristics']"
   ]
  },
  {
   "cell_type": "markdown",
   "metadata": {},
   "source": [
    "# Clean Characteristics Dataset"
   ]
  },
  {
   "attachments": {},
   "cell_type": "markdown",
   "metadata": {},
   "source": [
    "## Translation of French Variable Names"
   ]
  },
  {
   "cell_type": "code",
   "execution_count": 64,
   "metadata": {},
   "outputs": [],
   "source": [
    "dfd['characteristics'].rename(columns={'an': 'year', 'mois':'month', 'jour': 'day', 'hrmn':'hhmm', \n",
    "                                'lum': 'daylight', 'agg': 'built-up_area', 'int':'intersection_category', 'atm': 'weather',\n",
    "                                'col': 'collision_category', 'com': 'municipality', 'adr':'adress', 'gps': 'gps_origin', 'lat': 'latitude',\n",
    "                                'long': 'longitude', 'dep': 'department'}, inplace=True)"
   ]
  },
  {
   "attachments": {},
   "cell_type": "markdown",
   "metadata": {},
   "source": [
    "## Time and Date-Related Variables"
   ]
  },
  {
   "cell_type": "code",
   "execution_count": null,
   "metadata": {},
   "outputs": [],
   "source": [
    "\n",
    "# Fix inconsistent year format\n",
    "dfd['characteristics']['year'].replace({5:2005, 6:2006, 7:2007, 8:2008, 9:2009, 10:2010, 11:2011,\n",
    "                                        12:2012, 13:2013, 14:2014, 15:2015, 16:2016, 17:2017, 18:2018},\n",
    "                                        inplace=True)\n",
    "\n",
    "# Fix inconsistent time format\n",
    "dfd['characteristics']['hhmm'] = dfd['characteristics']['hhmm'].apply(lambda s: str(s).replace(':',''))\n",
    "\n",
    "dfd['characteristics']['hour'] = dfd['characteristics']['hhmm'].apply(lambda hhmm: hhmm[:-2])\n",
    "dfd['characteristics']['hour'] = dfd['characteristics']['hour'].replace('', np.nan) \\\n",
    "                                                               .fillna(method='bfill')\n",
    "dfd['characteristics']['minute'] = dfd['characteristics']['hhmm'].apply(lambda hhmm: hhmm[-2:])\n",
    "\n",
    "dfd['characteristics']['date'] = pd.to_datetime({'year':dfd['characteristics']['year'],\n",
    "                                                 'month':dfd['characteristics']['month'],\n",
    "                                                 'day':dfd['characteristics']['day'],\n",
    "                                                 'hour':dfd['characteristics']['hour'],\n",
    "                                                 'minute':dfd['characteristics']['minute']})\n",
    "                                        \n",
    "# New variable: weekday, integer from 0 to 6 representing the weekdays from monday to sunday.\n",
    "dfd['characteristics']['day_of_week'] = dfd['characteristics']['date'].apply(lambda x: x.day_of_week)\n",
    "\n",
    "# New binary variable: is_weekend, 0 for monday to friday and 1 for saturday and sunday\n",
    "dfd['characteristics']['is_weekend'] = (dfd['characteristics']['day_of_week'] > 4).astype('int')\n"
   ]
  },
  {
   "attachments": {},
   "cell_type": "markdown",
   "metadata": {},
   "source": [
    "## Department Variable"
   ]
  },
  {
   "cell_type": "code",
   "execution_count": 62,
   "metadata": {},
   "outputs": [],
   "source": [
    "def department_converter(dep):\n",
    "    '''\n",
    "    Takes in a department code as int and returns a string\n",
    "    e.g. 750 will be '75' for Paris and 201 will be '2B'\n",
    "    '''\n",
    "    if dep == 201:\n",
    "        return '2A'\n",
    "    elif dep == 202:\n",
    "        return '2B'\n",
    "    elif dep>970:\n",
    "        return str(dep)\n",
    "    else:\n",
    "        return str(dep).strip('0')\n",
    "\n",
    "dfd['characteristics'].loc[(np.less(dfd['characteristics']['year'],2019)),'department'] = \\\n",
    "    dfd['characteristics'][(np.less(dfd['characteristics']['year'],2019))]['department'].apply(department_converter)"
   ]
  },
  {
   "attachments": {},
   "cell_type": "markdown",
   "metadata": {},
   "source": [
    "## Other "
   ]
  },
  {
   "cell_type": "code",
   "execution_count": null,
   "metadata": {},
   "outputs": [],
   "source": [
    "dfd['characteristics']['weather'] = dfd['characteristics']['weather'].fillna(\n",
    "    dfd['characteristics']['weather'].mode()[0])\n",
    "dfd['characteristics']['weather'].replace({-1, 0}, inplace=True)\n",
    "dfd['characteristics']['weather'].astype('int')"
   ]
  },
  {
   "cell_type": "code",
   "execution_count": null,
   "metadata": {},
   "outputs": [],
   "source": [
    "dfd['characteristics']['collision_category'] = dfd['characteristics']['collision_category'].fillna(\n",
    "    dfd['characteristics']['collision_category'].mode()[0])"
   ]
  },
  {
   "cell_type": "code",
   "execution_count": null,
   "metadata": {},
   "outputs": [],
   "source": [
    "dfd['characteristics']['built-up_area'].replace({1:0, 2:1}, inplace=True)                                "
   ]
  },
  {
   "attachments": {},
   "cell_type": "markdown",
   "metadata": {},
   "source": [
    "# Clean Locations Dataset"
   ]
  },
  {
   "cell_type": "code",
   "execution_count": null,
   "metadata": {},
   "outputs": [],
   "source": [
    "# TODO"
   ]
  },
  {
   "attachments": {},
   "cell_type": "markdown",
   "metadata": {},
   "source": [
    "# Clean Vehicles Dataset"
   ]
  },
  {
   "cell_type": "code",
   "execution_count": null,
   "metadata": {},
   "outputs": [],
   "source": [
    "# TODO"
   ]
  },
  {
   "cell_type": "markdown",
   "metadata": {},
   "source": [
    "# Clean Persons Dataset"
   ]
  },
  {
   "cell_type": "code",
   "execution_count": null,
   "metadata": {},
   "outputs": [],
   "source": [
    "# TODO"
   ]
  }
 ],
 "metadata": {
  "kernelspec": {
   "display_name": "roafr",
   "language": "python",
   "name": "python3"
  },
  "language_info": {
   "codemirror_mode": {
    "name": "ipython",
    "version": 3
   },
   "file_extension": ".py",
   "mimetype": "text/x-python",
   "name": "python",
   "nbconvert_exporter": "python",
   "pygments_lexer": "ipython3",
   "version": "3.10.0"
  },
  "orig_nbformat": 4,
  "vscode": {
   "interpreter": {
    "hash": "9abf5651d5bd759d8f44d39e5381e176b09fa932f8024dcac7821093c66e36d0"
   }
  }
 },
 "nbformat": 4,
 "nbformat_minor": 2
}
