{
 "cells": [
  {
   "attachments": {},
   "cell_type": "markdown",
   "id": "43630895",
   "metadata": {
    "papermill": {
     "duration": 0.009011,
     "end_time": "2023-02-27T11:23:23.341935",
     "exception": false,
     "start_time": "2023-02-27T11:23:23.332924",
     "status": "completed"
    },
    "tags": []
   },
   "source": [
    "Notebook 3: Conventional Machine Learning\n",
    "========================================="
   ]
  },
  {
   "attachments": {},
   "cell_type": "markdown",
   "id": "f455b66f",
   "metadata": {
    "papermill": {
     "duration": 0.006987,
     "end_time": "2023-02-27T11:23:23.357931",
     "exception": false,
     "start_time": "2023-02-27T11:23:23.350944",
     "status": "completed"
    },
    "tags": []
   },
   "source": [
    "# Import Section"
   ]
  },
  {
   "cell_type": "code",
   "execution_count": 1,
   "id": "baf90eb0",
   "metadata": {
    "execution": {
     "iopub.execute_input": "2023-02-27T11:23:23.376950Z",
     "iopub.status.busy": "2023-02-27T11:23:23.375956Z",
     "iopub.status.idle": "2023-02-27T11:23:26.162755Z",
     "shell.execute_reply": "2023-02-27T11:23:26.161726Z"
    },
    "papermill": {
     "duration": 2.798787,
     "end_time": "2023-02-27T11:23:26.165745",
     "exception": false,
     "start_time": "2023-02-27T11:23:23.366958",
     "status": "completed"
    },
    "tags": []
   },
   "outputs": [],
   "source": [
    "import multiprocessing\n",
    "\n",
    "import matplotlib.pyplot as plt\n",
    "import numpy as np\n",
    "import pandas as pd\n",
    "import seaborn as sns\n",
    "from imblearn.under_sampling import RandomUnderSampler\n",
    "from sklearn.ensemble import RandomForestClassifier\n",
    "from sklearn.inspection import permutation_importance\n",
    "from sklearn.metrics import classification_report\n",
    "from sklearn.model_selection import GridSearchCV, train_test_split\n",
    "from sklearn.preprocessing import StandardScaler\n",
    "from sklearn.utils.random import sample_without_replacement\n",
    "from xgboost import XGBClassifier, plot_importance\n",
    "\n",
    "from roaf import data"
   ]
  },
  {
   "cell_type": "code",
   "execution_count": 2,
   "id": "f162c652",
   "metadata": {
    "execution": {
     "iopub.execute_input": "2023-02-27T11:23:26.178779Z",
     "iopub.status.busy": "2023-02-27T11:23:26.178779Z",
     "iopub.status.idle": "2023-02-27T11:23:26.209489Z",
     "shell.execute_reply": "2023-02-27T11:23:26.208485Z"
    },
    "papermill": {
     "duration": 0.040726,
     "end_time": "2023-02-27T11:23:26.212481",
     "exception": false,
     "start_time": "2023-02-27T11:23:26.171755",
     "status": "completed"
    },
    "tags": []
   },
   "outputs": [
    {
     "data": {
      "text/plain": [
       "<Figure size 640x480 with 0 Axes>"
      ]
     },
     "metadata": {},
     "output_type": "display_data"
    }
   ],
   "source": [
    "%matplotlib inline\n",
    "plt.style.use(\"dark_background\")\n",
    "plt.set_cmap(\"Dark2\")\n",
    "sns.set_palette(\"Dark2\")"
   ]
  },
  {
   "cell_type": "code",
   "execution_count": 3,
   "id": "6e974ee0",
   "metadata": {
    "execution": {
     "iopub.execute_input": "2023-02-27T11:23:26.224488Z",
     "iopub.status.busy": "2023-02-27T11:23:26.224488Z",
     "iopub.status.idle": "2023-02-27T11:23:28.362983Z",
     "shell.execute_reply": "2023-02-27T11:23:28.361945Z"
    },
    "papermill": {
     "duration": 2.148483,
     "end_time": "2023-02-27T11:23:28.365967",
     "exception": false,
     "start_time": "2023-02-27T11:23:26.217484",
     "status": "completed"
    },
    "tags": []
   },
   "outputs": [],
   "source": [
    "df = data.df_from_pickle(\"../data/processed/df.p\")"
   ]
  },
  {
   "attachments": {},
   "cell_type": "markdown",
   "id": "7301c3f9",
   "metadata": {
    "papermill": {
     "duration": 0.006021,
     "end_time": "2023-02-27T11:23:28.377989",
     "exception": false,
     "start_time": "2023-02-27T11:23:28.371968",
     "status": "completed"
    },
    "tags": []
   },
   "source": [
    "# Data Preprocessing for Machine Learning"
   ]
  },
  {
   "cell_type": "code",
   "execution_count": 4,
   "id": "1454f407",
   "metadata": {
    "execution": {
     "iopub.execute_input": "2023-02-27T11:23:28.390509Z",
     "iopub.status.busy": "2023-02-27T11:23:28.390509Z",
     "iopub.status.idle": "2023-02-27T11:23:28.600895Z",
     "shell.execute_reply": "2023-02-27T11:23:28.599889Z"
    },
    "papermill": {
     "duration": 0.220904,
     "end_time": "2023-02-27T11:23:28.603891",
     "exception": false,
     "start_time": "2023-02-27T11:23:28.382987",
     "status": "completed"
    },
    "tags": []
   },
   "outputs": [],
   "source": [
    "df_ml = (\n",
    "    df.select_dtypes(include=np.number)\n",
    "    .drop(columns=[\"accident_id\", \"accident_id_y\"])\n",
    "    .dropna(axis=1, how=\"any\")\n",
    ")"
   ]
  },
  {
   "cell_type": "code",
   "execution_count": 5,
   "id": "05368101",
   "metadata": {
    "execution": {
     "iopub.execute_input": "2023-02-27T11:23:28.619893Z",
     "iopub.status.busy": "2023-02-27T11:23:28.618896Z",
     "iopub.status.idle": "2023-02-27T11:23:28.933515Z",
     "shell.execute_reply": "2023-02-27T11:23:28.932510Z"
    },
    "papermill": {
     "duration": 0.325617,
     "end_time": "2023-02-27T11:23:28.936507",
     "exception": false,
     "start_time": "2023-02-27T11:23:28.610890",
     "status": "completed"
    },
    "tags": []
   },
   "outputs": [],
   "source": [
    "df_ml = pd.get_dummies(\n",
    "    data=df_ml,\n",
    "    columns=[\n",
    "        \"daylight\",\n",
    "        \"built-up_area\",\n",
    "        \"intersection_category\",\n",
    "        \"weather\",\n",
    "        \"collision_category\",\n",
    "        \"road_admin_category\",\n",
    "        \"traffic_regime\",\n",
    "        \"reserved_lane\",\n",
    "        \"plane_layout\",\n",
    "        \"surface_condition\",\n",
    "        \"infrastructure\",\n",
    "        \"location\",\n",
    "        \"is_weekend\",\n",
    "        \"role\",\n",
    "    ],\n",
    ")"
   ]
  },
  {
   "cell_type": "code",
   "execution_count": 6,
   "id": "0d4965a6",
   "metadata": {
    "execution": {
     "iopub.execute_input": "2023-02-27T11:23:28.951518Z",
     "iopub.status.busy": "2023-02-27T11:23:28.951518Z",
     "iopub.status.idle": "2023-02-27T11:23:29.358758Z",
     "shell.execute_reply": "2023-02-27T11:23:29.357751Z"
    },
    "papermill": {
     "duration": 0.41724,
     "end_time": "2023-02-27T11:23:29.361751",
     "exception": false,
     "start_time": "2023-02-27T11:23:28.944511",
     "status": "completed"
    },
    "tags": []
   },
   "outputs": [],
   "source": [
    "features = df_ml.drop(columns=\"severity\")\n",
    "feature_columns = features.columns\n",
    "target = df_ml[\"severity\"]\n",
    "random_under_sampler = RandomUnderSampler()\n",
    "features, target = random_under_sampler.fit_resample(X=features, y=target)\n",
    "\n",
    "MAX_SAMPLE_SIZE = 1_000_000\n",
    "sample_size = len(target)\n",
    "if sample_size > MAX_SAMPLE_SIZE:\n",
    "    sample_idx = sample_without_replacement(\n",
    "        n_population=sample_size, n_samples=MAX_SAMPLE_SIZE, random_state=0\n",
    "    )\n",
    "    features = features.iloc[sample_idx]\n",
    "    target = target.iloc[sample_idx]"
   ]
  },
  {
   "cell_type": "code",
   "execution_count": 7,
   "id": "9b9a69ab",
   "metadata": {
    "execution": {
     "iopub.execute_input": "2023-02-27T11:23:29.377756Z",
     "iopub.status.busy": "2023-02-27T11:23:29.377756Z",
     "iopub.status.idle": "2023-02-27T11:23:29.500853Z",
     "shell.execute_reply": "2023-02-27T11:23:29.499849Z"
    },
    "papermill": {
     "duration": 0.134094,
     "end_time": "2023-02-27T11:23:29.503848",
     "exception": false,
     "start_time": "2023-02-27T11:23:29.369754",
     "status": "completed"
    },
    "tags": []
   },
   "outputs": [],
   "source": [
    "scaler = StandardScaler()\n",
    "features = scaler.fit_transform(features)"
   ]
  },
  {
   "cell_type": "code",
   "execution_count": 8,
   "id": "2bfd6ba2",
   "metadata": {
    "execution": {
     "iopub.execute_input": "2023-02-27T11:23:29.520850Z",
     "iopub.status.busy": "2023-02-27T11:23:29.520850Z",
     "iopub.status.idle": "2023-02-27T11:23:29.579881Z",
     "shell.execute_reply": "2023-02-27T11:23:29.578874Z"
    },
    "papermill": {
     "duration": 0.072016,
     "end_time": "2023-02-27T11:23:29.583874",
     "exception": false,
     "start_time": "2023-02-27T11:23:29.511858",
     "status": "completed"
    },
    "tags": []
   },
   "outputs": [],
   "source": [
    "X_train, X_test, y_train, y_test = train_test_split(\n",
    "    features,\n",
    "    target,\n",
    "    test_size=0.2,\n",
    "    random_state=0,\n",
    ")"
   ]
  },
  {
   "cell_type": "code",
   "execution_count": 9,
   "id": "f7f4a121",
   "metadata": {
    "execution": {
     "iopub.execute_input": "2023-02-27T11:23:29.604410Z",
     "iopub.status.busy": "2023-02-27T11:23:29.603414Z",
     "iopub.status.idle": "2023-02-27T11:23:29.627408Z",
     "shell.execute_reply": "2023-02-27T11:23:29.625403Z"
    },
    "papermill": {
     "duration": 0.038996,
     "end_time": "2023-02-27T11:23:29.630404",
     "exception": false,
     "start_time": "2023-02-27T11:23:29.591408",
     "status": "completed"
    },
    "tags": []
   },
   "outputs": [],
   "source": [
    "# Reconvert the features to DataFrames in order to keep the feature names\n",
    "X_train = pd.DataFrame(data=X_train)\n",
    "X_test = pd.DataFrame(data=X_test)\n",
    "X_train.columns = feature_columns\n",
    "X_test.columns = feature_columns"
   ]
  },
  {
   "cell_type": "code",
   "execution_count": 10,
   "id": "bee15628",
   "metadata": {
    "execution": {
     "iopub.execute_input": "2023-02-27T11:23:29.651414Z",
     "iopub.status.busy": "2023-02-27T11:23:29.650406Z",
     "iopub.status.idle": "2023-02-27T11:23:30.226178Z",
     "shell.execute_reply": "2023-02-27T11:23:30.224968Z"
    },
    "lines_to_next_cell": 2,
    "papermill": {
     "duration": 0.588793,
     "end_time": "2023-02-27T11:23:30.228200",
     "exception": false,
     "start_time": "2023-02-27T11:23:29.639407",
     "status": "completed"
    },
    "tags": []
   },
   "outputs": [],
   "source": [
    "data.df_to_pickle(\n",
    "    pd.concat([X_train, y_train.reset_index(drop=True)], axis=1), \"Xy_train\"\n",
    ")\n",
    "data.df_to_pickle(pd.concat([X_test, y_test.reset_index(drop=True)], axis=1), \"Xy_test\")"
   ]
  },
  {
   "attachments": {},
   "cell_type": "markdown",
   "id": "d5346e7f",
   "metadata": {
    "papermill": {
     "duration": 0.007035,
     "end_time": "2023-02-27T11:23:30.242475",
     "exception": false,
     "start_time": "2023-02-27T11:23:30.235440",
     "status": "completed"
    },
    "tags": []
   },
   "source": [
    "# XGBoost"
   ]
  },
  {
   "cell_type": "code",
   "execution_count": 11,
   "id": "3ccf94c1",
   "metadata": {
    "execution": {
     "iopub.execute_input": "2023-02-27T11:23:30.256474Z",
     "iopub.status.busy": "2023-02-27T11:23:30.255489Z",
     "iopub.status.idle": "2023-02-27T11:28:14.413233Z",
     "shell.execute_reply": "2023-02-27T11:28:14.412224Z"
    },
    "papermill": {
     "duration": 284.169757,
     "end_time": "2023-02-27T11:28:14.417231",
     "exception": false,
     "start_time": "2023-02-27T11:23:30.247474",
     "status": "completed"
    },
    "tags": []
   },
   "outputs": [
    {
     "name": "stdout",
     "output_type": "stream",
     "text": [
      "Fitting 4 folds for each of 12 candidates, totalling 48 fits\n"
     ]
    },
    {
     "data": {
      "text/html": [
       "<style>#sk-container-id-1 {color: black;background-color: white;}#sk-container-id-1 pre{padding: 0;}#sk-container-id-1 div.sk-toggleable {background-color: white;}#sk-container-id-1 label.sk-toggleable__label {cursor: pointer;display: block;width: 100%;margin-bottom: 0;padding: 0.3em;box-sizing: border-box;text-align: center;}#sk-container-id-1 label.sk-toggleable__label-arrow:before {content: \"▸\";float: left;margin-right: 0.25em;color: #696969;}#sk-container-id-1 label.sk-toggleable__label-arrow:hover:before {color: black;}#sk-container-id-1 div.sk-estimator:hover label.sk-toggleable__label-arrow:before {color: black;}#sk-container-id-1 div.sk-toggleable__content {max-height: 0;max-width: 0;overflow: hidden;text-align: left;background-color: #f0f8ff;}#sk-container-id-1 div.sk-toggleable__content pre {margin: 0.2em;color: black;border-radius: 0.25em;background-color: #f0f8ff;}#sk-container-id-1 input.sk-toggleable__control:checked~div.sk-toggleable__content {max-height: 200px;max-width: 100%;overflow: auto;}#sk-container-id-1 input.sk-toggleable__control:checked~label.sk-toggleable__label-arrow:before {content: \"▾\";}#sk-container-id-1 div.sk-estimator input.sk-toggleable__control:checked~label.sk-toggleable__label {background-color: #d4ebff;}#sk-container-id-1 div.sk-label input.sk-toggleable__control:checked~label.sk-toggleable__label {background-color: #d4ebff;}#sk-container-id-1 input.sk-hidden--visually {border: 0;clip: rect(1px 1px 1px 1px);clip: rect(1px, 1px, 1px, 1px);height: 1px;margin: -1px;overflow: hidden;padding: 0;position: absolute;width: 1px;}#sk-container-id-1 div.sk-estimator {font-family: monospace;background-color: #f0f8ff;border: 1px dotted black;border-radius: 0.25em;box-sizing: border-box;margin-bottom: 0.5em;}#sk-container-id-1 div.sk-estimator:hover {background-color: #d4ebff;}#sk-container-id-1 div.sk-parallel-item::after {content: \"\";width: 100%;border-bottom: 1px solid gray;flex-grow: 1;}#sk-container-id-1 div.sk-label:hover label.sk-toggleable__label {background-color: #d4ebff;}#sk-container-id-1 div.sk-serial::before {content: \"\";position: absolute;border-left: 1px solid gray;box-sizing: border-box;top: 0;bottom: 0;left: 50%;z-index: 0;}#sk-container-id-1 div.sk-serial {display: flex;flex-direction: column;align-items: center;background-color: white;padding-right: 0.2em;padding-left: 0.2em;position: relative;}#sk-container-id-1 div.sk-item {position: relative;z-index: 1;}#sk-container-id-1 div.sk-parallel {display: flex;align-items: stretch;justify-content: center;background-color: white;position: relative;}#sk-container-id-1 div.sk-item::before, #sk-container-id-1 div.sk-parallel-item::before {content: \"\";position: absolute;border-left: 1px solid gray;box-sizing: border-box;top: 0;bottom: 0;left: 50%;z-index: -1;}#sk-container-id-1 div.sk-parallel-item {display: flex;flex-direction: column;z-index: 1;position: relative;background-color: white;}#sk-container-id-1 div.sk-parallel-item:first-child::after {align-self: flex-end;width: 50%;}#sk-container-id-1 div.sk-parallel-item:last-child::after {align-self: flex-start;width: 50%;}#sk-container-id-1 div.sk-parallel-item:only-child::after {width: 0;}#sk-container-id-1 div.sk-dashed-wrapped {border: 1px dashed gray;margin: 0 0.4em 0.5em 0.4em;box-sizing: border-box;padding-bottom: 0.4em;background-color: white;}#sk-container-id-1 div.sk-label label {font-family: monospace;font-weight: bold;display: inline-block;line-height: 1.2em;}#sk-container-id-1 div.sk-label-container {text-align: center;}#sk-container-id-1 div.sk-container {/* jupyter's `normalize.less` sets `[hidden] { display: none; }` but bootstrap.min.css set `[hidden] { display: none !important; }` so we also need the `!important` here to be able to override the default hidden behavior on the sphinx rendered scikit-learn.org. See: https://github.com/scikit-learn/scikit-learn/issues/21755 */display: inline-block !important;position: relative;}#sk-container-id-1 div.sk-text-repr-fallback {display: none;}</style><div id=\"sk-container-id-1\" class=\"sk-top-container\"><div class=\"sk-text-repr-fallback\"><pre>GridSearchCV(cv=4,\n",
       "             estimator=XGBClassifier(base_score=None, booster=None,\n",
       "                                     callbacks=None, colsample_bylevel=None,\n",
       "                                     colsample_bynode=None,\n",
       "                                     colsample_bytree=None,\n",
       "                                     early_stopping_rounds=None,\n",
       "                                     enable_categorical=False, eval_metric=None,\n",
       "                                     feature_types=None, gamma=None,\n",
       "                                     gpu_id=None, grow_policy=None,\n",
       "                                     importance_type=None,\n",
       "                                     interaction_constraints=None,\n",
       "                                     learning_rate=None,...e,\n",
       "                                     max_cat_threshold=None,\n",
       "                                     max_cat_to_onehot=None,\n",
       "                                     max_delta_step=None, max_depth=None,\n",
       "                                     max_leaves=None, min_child_weight=None,\n",
       "                                     missing=nan, monotone_constraints=None,\n",
       "                                     n_estimators=100, n_jobs=4,\n",
       "                                     num_parallel_tree=None, predictor=None,\n",
       "                                     random_state=None, ...),\n",
       "             n_jobs=2,\n",
       "             param_grid={&#x27;learning_rate&#x27;: [0.05, 0.1], &#x27;max_depth&#x27;: [2, 4, 6],\n",
       "                         &#x27;n_estimators&#x27;: [100, 200]},\n",
       "             verbose=1)</pre><b>In a Jupyter environment, please rerun this cell to show the HTML representation or trust the notebook. <br />On GitHub, the HTML representation is unable to render, please try loading this page with nbviewer.org.</b></div><div class=\"sk-container\" hidden><div class=\"sk-item sk-dashed-wrapped\"><div class=\"sk-label-container\"><div class=\"sk-label sk-toggleable\"><input class=\"sk-toggleable__control sk-hidden--visually\" id=\"sk-estimator-id-1\" type=\"checkbox\" ><label for=\"sk-estimator-id-1\" class=\"sk-toggleable__label sk-toggleable__label-arrow\">GridSearchCV</label><div class=\"sk-toggleable__content\"><pre>GridSearchCV(cv=4,\n",
       "             estimator=XGBClassifier(base_score=None, booster=None,\n",
       "                                     callbacks=None, colsample_bylevel=None,\n",
       "                                     colsample_bynode=None,\n",
       "                                     colsample_bytree=None,\n",
       "                                     early_stopping_rounds=None,\n",
       "                                     enable_categorical=False, eval_metric=None,\n",
       "                                     feature_types=None, gamma=None,\n",
       "                                     gpu_id=None, grow_policy=None,\n",
       "                                     importance_type=None,\n",
       "                                     interaction_constraints=None,\n",
       "                                     learning_rate=None,...e,\n",
       "                                     max_cat_threshold=None,\n",
       "                                     max_cat_to_onehot=None,\n",
       "                                     max_delta_step=None, max_depth=None,\n",
       "                                     max_leaves=None, min_child_weight=None,\n",
       "                                     missing=nan, monotone_constraints=None,\n",
       "                                     n_estimators=100, n_jobs=4,\n",
       "                                     num_parallel_tree=None, predictor=None,\n",
       "                                     random_state=None, ...),\n",
       "             n_jobs=2,\n",
       "             param_grid={&#x27;learning_rate&#x27;: [0.05, 0.1], &#x27;max_depth&#x27;: [2, 4, 6],\n",
       "                         &#x27;n_estimators&#x27;: [100, 200]},\n",
       "             verbose=1)</pre></div></div></div><div class=\"sk-parallel\"><div class=\"sk-parallel-item\"><div class=\"sk-item\"><div class=\"sk-label-container\"><div class=\"sk-label sk-toggleable\"><input class=\"sk-toggleable__control sk-hidden--visually\" id=\"sk-estimator-id-2\" type=\"checkbox\" ><label for=\"sk-estimator-id-2\" class=\"sk-toggleable__label sk-toggleable__label-arrow\">estimator: XGBClassifier</label><div class=\"sk-toggleable__content\"><pre>XGBClassifier(base_score=None, booster=None, callbacks=None,\n",
       "              colsample_bylevel=None, colsample_bynode=None,\n",
       "              colsample_bytree=None, early_stopping_rounds=None,\n",
       "              enable_categorical=False, eval_metric=None, feature_types=None,\n",
       "              gamma=None, gpu_id=None, grow_policy=None, importance_type=None,\n",
       "              interaction_constraints=None, learning_rate=None, max_bin=None,\n",
       "              max_cat_threshold=None, max_cat_to_onehot=None,\n",
       "              max_delta_step=None, max_depth=None, max_leaves=None,\n",
       "              min_child_weight=None, missing=nan, monotone_constraints=None,\n",
       "              n_estimators=100, n_jobs=4, num_parallel_tree=None,\n",
       "              predictor=None, random_state=None, ...)</pre></div></div></div><div class=\"sk-serial\"><div class=\"sk-item\"><div class=\"sk-estimator sk-toggleable\"><input class=\"sk-toggleable__control sk-hidden--visually\" id=\"sk-estimator-id-3\" type=\"checkbox\" ><label for=\"sk-estimator-id-3\" class=\"sk-toggleable__label sk-toggleable__label-arrow\">XGBClassifier</label><div class=\"sk-toggleable__content\"><pre>XGBClassifier(base_score=None, booster=None, callbacks=None,\n",
       "              colsample_bylevel=None, colsample_bynode=None,\n",
       "              colsample_bytree=None, early_stopping_rounds=None,\n",
       "              enable_categorical=False, eval_metric=None, feature_types=None,\n",
       "              gamma=None, gpu_id=None, grow_policy=None, importance_type=None,\n",
       "              interaction_constraints=None, learning_rate=None, max_bin=None,\n",
       "              max_cat_threshold=None, max_cat_to_onehot=None,\n",
       "              max_delta_step=None, max_depth=None, max_leaves=None,\n",
       "              min_child_weight=None, missing=nan, monotone_constraints=None,\n",
       "              n_estimators=100, n_jobs=4, num_parallel_tree=None,\n",
       "              predictor=None, random_state=None, ...)</pre></div></div></div></div></div></div></div></div></div></div>"
      ],
      "text/plain": [
       "GridSearchCV(cv=4,\n",
       "             estimator=XGBClassifier(base_score=None, booster=None,\n",
       "                                     callbacks=None, colsample_bylevel=None,\n",
       "                                     colsample_bynode=None,\n",
       "                                     colsample_bytree=None,\n",
       "                                     early_stopping_rounds=None,\n",
       "                                     enable_categorical=False, eval_metric=None,\n",
       "                                     feature_types=None, gamma=None,\n",
       "                                     gpu_id=None, grow_policy=None,\n",
       "                                     importance_type=None,\n",
       "                                     interaction_constraints=None,\n",
       "                                     learning_rate=None,...e,\n",
       "                                     max_cat_threshold=None,\n",
       "                                     max_cat_to_onehot=None,\n",
       "                                     max_delta_step=None, max_depth=None,\n",
       "                                     max_leaves=None, min_child_weight=None,\n",
       "                                     missing=nan, monotone_constraints=None,\n",
       "                                     n_estimators=100, n_jobs=4,\n",
       "                                     num_parallel_tree=None, predictor=None,\n",
       "                                     random_state=None, ...),\n",
       "             n_jobs=2,\n",
       "             param_grid={'learning_rate': [0.05, 0.1], 'max_depth': [2, 4, 6],\n",
       "                         'n_estimators': [100, 200]},\n",
       "             verbose=1)"
      ]
     },
     "execution_count": 11,
     "metadata": {},
     "output_type": "execute_result"
    }
   ],
   "source": [
    "xgb_clf = XGBClassifier(n_jobs=multiprocessing.cpu_count() // 2)\n",
    "\n",
    "param_grid = {\n",
    "    \"max_depth\": [2, 4, 6],\n",
    "    \"n_estimators\": [100, 200],\n",
    "    \"learning_rate\": [0.05, 0.1],\n",
    "}\n",
    "\n",
    "grid = GridSearchCV(estimator=xgb_clf, param_grid=param_grid, cv=4, n_jobs=2, verbose=1)\n",
    "\n",
    "grid.fit(X_train, y_train)"
   ]
  },
  {
   "cell_type": "code",
   "execution_count": 12,
   "id": "9e2ba055",
   "metadata": {
    "execution": {
     "iopub.execute_input": "2023-02-27T11:28:14.436226Z",
     "iopub.status.busy": "2023-02-27T11:28:14.436226Z",
     "iopub.status.idle": "2023-02-27T11:28:14.445233Z",
     "shell.execute_reply": "2023-02-27T11:28:14.444233Z"
    },
    "papermill": {
     "duration": 0.024008,
     "end_time": "2023-02-27T11:28:14.449238",
     "exception": false,
     "start_time": "2023-02-27T11:28:14.425230",
     "status": "completed"
    },
    "tags": []
   },
   "outputs": [
    {
     "data": {
      "text/plain": [
       "{'learning_rate': 0.05, 'max_depth': 4, 'n_estimators': 200}"
      ]
     },
     "execution_count": 12,
     "metadata": {},
     "output_type": "execute_result"
    }
   ],
   "source": [
    "grid.best_params_"
   ]
  },
  {
   "cell_type": "code",
   "execution_count": 13,
   "id": "eeb85ff5",
   "metadata": {
    "execution": {
     "iopub.execute_input": "2023-02-27T11:28:14.466236Z",
     "iopub.status.busy": "2023-02-27T11:28:14.465254Z",
     "iopub.status.idle": "2023-02-27T11:28:14.540774Z",
     "shell.execute_reply": "2023-02-27T11:28:14.539762Z"
    },
    "papermill": {
     "duration": 0.088543,
     "end_time": "2023-02-27T11:28:14.544776",
     "exception": false,
     "start_time": "2023-02-27T11:28:14.456233",
     "status": "completed"
    },
    "tags": []
   },
   "outputs": [
    {
     "name": "stdout",
     "output_type": "stream",
     "text": [
      "              precision    recall  f1-score   support\n",
      "\n",
      "           0       0.53      0.71      0.61      1869\n",
      "           1       0.50      0.25      0.34      1906\n",
      "           2       0.61      0.71      0.66      1924\n",
      "\n",
      "    accuracy                           0.56      5699\n",
      "   macro avg       0.55      0.56      0.53      5699\n",
      "weighted avg       0.55      0.56      0.53      5699\n",
      "\n"
     ]
    }
   ],
   "source": [
    "best_xgb = grid.best_estimator_\n",
    "y_pred = best_xgb.predict(X_test)\n",
    "print(classification_report(y_true=y_test, y_pred=y_pred))"
   ]
  },
  {
   "cell_type": "code",
   "execution_count": 14,
   "id": "93db89b1",
   "metadata": {
    "execution": {
     "iopub.execute_input": "2023-02-27T11:28:14.564776Z",
     "iopub.status.busy": "2023-02-27T11:28:14.563771Z",
     "iopub.status.idle": "2023-02-27T11:28:15.140309Z",
     "shell.execute_reply": "2023-02-27T11:28:15.139301Z"
    },
    "papermill": {
     "duration": 0.589532,
     "end_time": "2023-02-27T11:28:15.143303",
     "exception": false,
     "start_time": "2023-02-27T11:28:14.553771",
     "status": "completed"
    },
    "tags": []
   },
   "outputs": [
    {
     "data": {
      "image/png": "[encoded data removed]",
      "text/plain": [
       "<Figure size 640x480 with 1 Axes>"
      ]
     },
     "metadata": {},
     "output_type": "display_data"
    }
   ],
   "source": [
    "p = plot_importance(best_xgb, max_num_features=15, height=0.8, grid=\"off\")\n",
    "p.grid(False)"
   ]
  },
  {
   "attachments": {},
   "cell_type": "markdown",
   "id": "4e95492e",
   "metadata": {
    "papermill": {
     "duration": 0.007998,
     "end_time": "2023-02-27T11:28:15.159305",
     "exception": false,
     "start_time": "2023-02-27T11:28:15.151307",
     "status": "completed"
    },
    "tags": []
   },
   "source": [
    "The feature importance plot enables us to identify the most important features used by XGBoost\n",
    "for the classification problem.\n",
    "It seems like the location (represented by longitude and latitude) has the highest importance\n",
    "in this case."
   ]
  },
  {
   "attachments": {},
   "cell_type": "markdown",
   "id": "9b54d73e",
   "metadata": {
    "papermill": {
     "duration": 0.008016,
     "end_time": "2023-02-27T11:28:15.174315",
     "exception": false,
     "start_time": "2023-02-27T11:28:15.166299",
     "status": "completed"
    },
    "tags": []
   },
   "source": [
    "# Random Forest"
   ]
  },
  {
   "cell_type": "code",
   "execution_count": 15,
   "id": "0af6a206",
   "metadata": {
    "execution": {
     "iopub.execute_input": "2023-02-27T11:28:15.194889Z",
     "iopub.status.busy": "2023-02-27T11:28:15.194889Z",
     "iopub.status.idle": "2023-02-27T11:28:21.452531Z",
     "shell.execute_reply": "2023-02-27T11:28:21.451496Z"
    },
    "papermill": {
     "duration": 6.271209,
     "end_time": "2023-02-27T11:28:21.455536",
     "exception": false,
     "start_time": "2023-02-27T11:28:15.184327",
     "status": "completed"
    },
    "tags": []
   },
   "outputs": [
    {
     "name": "stdout",
     "output_type": "stream",
     "text": [
      "              precision    recall  f1-score   support\n",
      "\n",
      "           0       0.52      0.62      0.57      1869\n",
      "           1       0.44      0.31      0.36      1906\n",
      "           2       0.62      0.69      0.65      1924\n",
      "\n",
      "    accuracy                           0.54      5699\n",
      "   macro avg       0.53      0.54      0.53      5699\n",
      "weighted avg       0.53      0.54      0.53      5699\n",
      "\n"
     ]
    }
   ],
   "source": [
    "random_forest_clf = RandomForestClassifier(n_estimators=100)\n",
    "random_forest_clf.fit(X_train, y_train)\n",
    "y_pred_rf = random_forest_clf.predict(X_test)\n",
    "print(classification_report(y_true=y_test, y_pred=y_pred_rf))"
   ]
  },
  {
   "attachments": {},
   "cell_type": "markdown",
   "id": "c38b12e1",
   "metadata": {
    "papermill": {
     "duration": 0.008997,
     "end_time": "2023-02-27T11:28:21.475461",
     "exception": false,
     "start_time": "2023-02-27T11:28:21.466464",
     "status": "completed"
    },
    "tags": []
   },
   "source": [
    "## Interpretation with Means of Permutation Importance\n",
    "Random Forests can be interpreted with impurity-based feature importance, but this approach\n",
    "has some downsides.\n",
    "I will therefore use permutation feature importance to analyze the model. For this, I will\n",
    "calculate the feature importance weights for both the training and the test set and compare them.\n",
    "Those features that show a high # difference # between the calculated values for training and\n",
    "test set are considered to be causal for overfitting."
   ]
  },
  {
   "cell_type": "code",
   "execution_count": 16,
   "id": "98492e34",
   "metadata": {
    "execution": {
     "iopub.execute_input": "2023-02-27T11:28:21.495011Z",
     "iopub.status.busy": "2023-02-27T11:28:21.494020Z",
     "iopub.status.idle": "2023-02-27T12:11:51.799597Z",
     "shell.execute_reply": "2023-02-27T12:11:51.795594Z"
    },
    "papermill": {
     "duration": 2610.108384,
     "end_time": "2023-02-27T12:11:51.590866",
     "exception": false,
     "start_time": "2023-02-27T11:28:21.482482",
     "status": "completed"
    },
    "tags": []
   },
   "outputs": [
    {
     "name": "stderr",
     "output_type": "stream",
     "text": [
      "\n",
      "KeyboardInterrupt\n",
      "\n"
     ]
    }
   ],
   "source": [
    "r_train = permutation_importance(\n",
    "    random_forest_clf, X_train, y_train, n_repeats=30, random_state=0\n",
    ")\n",
    "r_test = permutation_importance(\n",
    "    random_forest_clf, X_test, y_test, n_repeats=30, random_state=0\n",
    ")"
   ]
  },
  {
   "cell_type": "code",
   "execution_count": null,
   "id": "40cbee84",
   "metadata": {
    "papermill": {
     "duration": null,
     "end_time": null,
     "exception": null,
     "start_time": null,
     "status": "completed"
    },
    "tags": []
   },
   "outputs": [],
   "source": [
    "importances_mean_df = pd.DataFrame(index=feature_columns)\n",
    "importances_std_df = pd.DataFrame(index=feature_columns)\n",
    "\n",
    "importances_mean_df[\"train\"] = r_train.importances_mean\n",
    "importances_mean_df[\"test\"] = r_test.importances_mean\n",
    "\n",
    "importances_std_df[\"train\"] = r_train.importances_std\n",
    "importances_std_df[\"test\"] = r_test.importances_std\n",
    "\n",
    "importances_mean_df[\"train_test_diff\"] = abs(\n",
    "    importances_mean_df[\"test\"] - importances_mean_df[\"train\"]\n",
    ")\n",
    "importances_mean_df.sort_values(by=\"train_test_diff\", ascending=False, inplace=True)\n",
    "importances_mean_df.drop(columns=[\"train_test_diff\"], inplace=True)\n",
    "importances_std_df = importances_std_df.reindex_like(importances_mean_df)"
   ]
  },
  {
   "cell_type": "code",
   "execution_count": null,
   "id": "4b017272",
   "metadata": {
    "papermill": {
     "duration": null,
     "end_time": null,
     "exception": null,
     "start_time": null,
     "status": "completed"
    },
    "tags": []
   },
   "outputs": [],
   "source": [
    "N_PLOT = 15\n",
    "importances_mean_df[[\"train\", \"test\"]].head(N_PLOT).plot(\n",
    "    kind=\"barh\", capsize=2, xerr=importances_std_df.head(N_PLOT), stacked=True\n",
    ")\n",
    "plt.title(\"Features with High Difference in Importance between Train and Test Set\")\n",
    "plt.xlabel(\"\")\n",
    "plt.ylabel(\"feature\")"
   ]
  },
  {
   "cell_type": "code",
   "execution_count": null,
   "id": "0c405143",
   "metadata": {
    "papermill": {
     "duration": null,
     "end_time": null,
     "exception": null,
     "start_time": null,
     "status": "completed"
    },
    "tags": []
   },
   "outputs": [],
   "source": [
    "N_PLOT = 15\n",
    "importances_mean_df.sort_values(\"train\", ascending=False, inplace=True)\n",
    "importances_std_df = importances_std_df.reindex_like(importances_mean_df)\n",
    "sns.barplot(\n",
    "    data=importances_mean_df.head(N_PLOT),\n",
    "    x=\"train\",\n",
    "    y=importances_mean_df.head(N_PLOT).index.values,\n",
    "    xerr=importances_std_df[\"train\"].head(N_PLOT),\n",
    "    capsize=1.0,\n",
    "    ecolor=\"white\",\n",
    ")"
   ]
  }
 ],
 "metadata": {
  "jupytext": {
   "cell_metadata_filter": "-LanguageId",
   "main_language": "python",
   "notebook_metadata_filter": "-kernelspec"
  },
  "kernelspec": {
   "display_name": "roafr_env",
   "language": "python",
   "name": "python3"
  },
  "language_info": {
   "codemirror_mode": {
    "name": "ipython",
    "version": 3
   },
   "file_extension": ".py",
   "mimetype": "text/x-python",
   "name": "python",
   "nbconvert_exporter": "python",
   "pygments_lexer": "ipython3",
   "version": "3.10.4"
  },
  "papermill": {
   "default_parameters": {},
   "duration": 2913.3505,
   "end_time": "2023-02-27T12:11:53.403759",
   "environment_variables": {},
   "exception": null,
   "input_path": "nb_3.ipynb",
   "output_path": "nb_3_view.ipynb",
   "parameters": {},
   "start_time": "2023-02-27T11:23:20.053259",
   "version": "2.4.0"
  },
  "vscode": {
   "interpreter": {
    "hash": "be0ba73e310e3c3b28d8589ae8f828130433d78505c5448e90afacedd90c6969"
   }
  }
 },
 "nbformat": 4,
 "nbformat_minor": 5
}