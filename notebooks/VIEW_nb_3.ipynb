{
 "cells": [
  {
   "attachments": {},
   "cell_type": "markdown",
   "id": "146eef16",
   "metadata": {
    "papermill": {
     "duration": 0.010988,
     "end_time": "2023-03-01T10:12:38.685944",
     "exception": false,
     "start_time": "2023-03-01T10:12:38.674956",
     "status": "completed"
    },
    "tags": []
   },
   "source": [
    "<img src=\"../images/headers/nb_3.svg\"  width=\"1080\" height=\"220\">"
   ]
  },
  {
   "attachments": {},
   "cell_type": "markdown",
   "id": "c53e06d5",
   "metadata": {
    "papermill": {
     "duration": 0.012035,
     "end_time": "2023-03-01T10:12:38.711048",
     "exception": false,
     "start_time": "2023-03-01T10:12:38.699013",
     "status": "completed"
    },
    "tags": []
   },
   "source": [
    "# Import Section"
   ]
  },
  {
   "cell_type": "code",
   "execution_count": 1,
   "id": "3fb83d0e",
   "metadata": {
    "execution": {
     "iopub.execute_input": "2023-03-01T10:12:38.739117Z",
     "iopub.status.busy": "2023-03-01T10:12:38.738115Z",
     "iopub.status.idle": "2023-03-01T10:12:53.570575Z",
     "shell.execute_reply": "2023-03-01T10:12:53.564531Z"
    },
    "papermill": {
     "duration": 14.851502,
     "end_time": "2023-03-01T10:12:53.575574",
     "exception": false,
     "start_time": "2023-03-01T10:12:38.724072",
     "status": "completed"
    },
    "tags": []
   },
   "outputs": [],
   "source": [
    "import multiprocessing\n",
    "\n",
    "import matplotlib.pyplot as plt\n",
    "import numpy as np\n",
    "import pandas as pd\n",
    "import seaborn as sns\n",
    "from imblearn.under_sampling import RandomUnderSampler\n",
    "from sklearn.ensemble import RandomForestClassifier\n",
    "from sklearn.inspection import permutation_importance\n",
    "from sklearn.metrics import classification_report\n",
    "from sklearn.model_selection import train_test_split\n",
    "from sklearn.preprocessing import StandardScaler\n",
    "from sklearn.utils.random import sample_without_replacement\n",
    "from skopt import BayesSearchCV\n",
    "from xgboost import XGBClassifier, plot_importance\n",
    "\n",
    "from roaf import parameterization"
   ]
  },
  {
   "cell_type": "code",
   "execution_count": 2,
   "id": "957c4958",
   "metadata": {
    "execution": {
     "iopub.execute_input": "2023-03-01T10:12:53.606656Z",
     "iopub.status.busy": "2023-03-01T10:12:53.603627Z",
     "iopub.status.idle": "2023-03-01T10:12:53.662947Z",
     "shell.execute_reply": "2023-03-01T10:12:53.659943Z"
    },
    "papermill": {
     "duration": 0.078352,
     "end_time": "2023-03-01T10:12:53.668994",
     "exception": false,
     "start_time": "2023-03-01T10:12:53.590642",
     "status": "completed"
    },
    "tags": []
   },
   "outputs": [
    {
     "data": {
      "text/plain": [
       "<Figure size 640x480 with 0 Axes>"
      ]
     },
     "metadata": {},
     "output_type": "display_data"
    }
   ],
   "source": [
    "%matplotlib inline\n",
    "plt.style.use(\"dark_background\")\n",
    "plt.set_cmap(\"Dark2\")\n",
    "sns.set_palette(\"Dark2\")"
   ]
  },
  {
   "cell_type": "code",
   "execution_count": 3,
   "id": "8635f7ce",
   "metadata": {
    "execution": {
     "iopub.execute_input": "2023-03-01T10:12:53.696041Z",
     "iopub.status.busy": "2023-03-01T10:12:53.695032Z",
     "iopub.status.idle": "2023-03-01T10:12:53.710081Z",
     "shell.execute_reply": "2023-03-01T10:12:53.708082Z"
    },
    "papermill": {
     "duration": 0.034076,
     "end_time": "2023-03-01T10:12:53.715081",
     "exception": false,
     "start_time": "2023-03-01T10:12:53.681005",
     "status": "completed"
    },
    "tags": [
     "parameters"
    ]
   },
   "outputs": [],
   "source": [
    "FAST_EXECUTION = False\n",
    "MAX_SAMPLE_SIZE = None\n",
    "N_PLOT = 15\n",
    "N_CV_STANDARD = 5\n",
    "N_CV = N_CV_STANDARD\n",
    "N_PERMUTATION_REPETITIONS = None\n",
    "N_RANDOM_FOREST_ESTIMATORS = None"
   ]
  },
  {
   "cell_type": "code",
   "execution_count": 4,
   "id": "7df87b2f",
   "metadata": {
    "execution": {
     "iopub.execute_input": "2023-03-01T10:12:53.749201Z",
     "iopub.status.busy": "2023-03-01T10:12:53.748201Z",
     "iopub.status.idle": "2023-03-01T10:12:53.774824Z",
     "shell.execute_reply": "2023-03-01T10:12:53.771823Z"
    },
    "papermill": {
     "duration": 0.046719,
     "end_time": "2023-03-01T10:12:53.780866",
     "exception": false,
     "start_time": "2023-03-01T10:12:53.734147",
     "status": "completed"
    },
    "tags": []
   },
   "outputs": [],
   "source": [
    "# The reduction factor gives a hint on how much longer the standard execution would take than the\n",
    "# execution with the current parameters. It does not take into account non-linear behaviour.\n",
    "REDUCTION_FACTOR = N_CV_STANDARD / N_CV"
   ]
  },
  {
   "cell_type": "code",
   "execution_count": 5,
   "id": "3424464e",
   "metadata": {
    "execution": {
     "iopub.execute_input": "2023-03-01T10:12:53.809940Z",
     "iopub.status.busy": "2023-03-01T10:12:53.807945Z",
     "iopub.status.idle": "2023-03-01T10:12:55.117834Z",
     "shell.execute_reply": "2023-03-01T10:12:55.107214Z"
    },
    "papermill": {
     "duration": 1.330969,
     "end_time": "2023-03-01T10:12:55.123846",
     "exception": false,
     "start_time": "2023-03-01T10:12:53.792877",
     "status": "completed"
    },
    "tags": []
   },
   "outputs": [],
   "source": [
    "df = pd.read_parquet(\"../data/processed/df_by_user.parquet\")"
   ]
  },
  {
   "attachments": {},
   "cell_type": "markdown",
   "id": "4571dc26",
   "metadata": {
    "papermill": {
     "duration": 0.010708,
     "end_time": "2023-03-01T10:12:55.181015",
     "exception": false,
     "start_time": "2023-03-01T10:12:55.170307",
     "status": "completed"
    },
    "tags": []
   },
   "source": [
    "# Data Preprocessing for Machine Learning"
   ]
  },
  {
   "cell_type": "code",
   "execution_count": 6,
   "id": "b4b3621a",
   "metadata": {
    "execution": {
     "iopub.execute_input": "2023-03-01T10:12:55.210799Z",
     "iopub.status.busy": "2023-03-01T10:12:55.208801Z",
     "iopub.status.idle": "2023-03-01T10:12:55.529104Z",
     "shell.execute_reply": "2023-03-01T10:12:55.523487Z"
    },
    "papermill": {
     "duration": 0.3415,
     "end_time": "2023-03-01T10:12:55.534091",
     "exception": false,
     "start_time": "2023-03-01T10:12:55.192591",
     "status": "completed"
    },
    "tags": []
   },
   "outputs": [],
   "source": [
    "df_ml = (\n",
    "    df.select_dtypes(include=np.number)\n",
    "    .drop(columns=[\"accident_id\", \"accident_id_y\"])\n",
    "    .dropna(axis=1, how=\"any\")\n",
    ")"
   ]
  },
  {
   "cell_type": "code",
   "execution_count": 7,
   "id": "345e874f",
   "metadata": {
    "execution": {
     "iopub.execute_input": "2023-03-01T10:12:55.564983Z",
     "iopub.status.busy": "2023-03-01T10:12:55.563455Z",
     "iopub.status.idle": "2023-03-01T10:12:56.328748Z",
     "shell.execute_reply": "2023-03-01T10:12:56.323135Z"
    },
    "papermill": {
     "duration": 0.784479,
     "end_time": "2023-03-01T10:12:56.333745",
     "exception": false,
     "start_time": "2023-03-01T10:12:55.549266",
     "status": "completed"
    },
    "tags": []
   },
   "outputs": [],
   "source": [
    "df_ml = pd.get_dummies(\n",
    "    data=df_ml,\n",
    "    columns=[\n",
    "        \"daylight\",\n",
    "        \"built_up_area\",\n",
    "        \"intersection_category\",\n",
    "        \"weather\",\n",
    "        \"collision_category\",\n",
    "        \"road_admin_category\",\n",
    "        \"traffic_regime\",\n",
    "        \"reserved_lane\",\n",
    "        \"plane_layout\",\n",
    "        \"surface_condition\",\n",
    "        \"infrastructure\",\n",
    "        \"location\",\n",
    "        \"is_weekend\",\n",
    "        \"role\",\n",
    "    ],\n",
    ")"
   ]
  },
  {
   "cell_type": "code",
   "execution_count": 8,
   "id": "99777f9b",
   "metadata": {
    "execution": {
     "iopub.execute_input": "2023-03-01T10:12:56.362051Z",
     "iopub.status.busy": "2023-03-01T10:12:56.361056Z",
     "iopub.status.idle": "2023-03-01T10:12:57.813184Z",
     "shell.execute_reply": "2023-03-01T10:12:57.806621Z"
    },
    "papermill": {
     "duration": 1.471895,
     "end_time": "2023-03-01T10:12:57.818765",
     "exception": false,
     "start_time": "2023-03-01T10:12:56.346870",
     "status": "completed"
    },
    "tags": []
   },
   "outputs": [
    {
     "name": "stdout",
     "output_type": "stream",
     "text": [
      "28491\n"
     ]
    }
   ],
   "source": [
    "features = df_ml.drop(columns=\"severity\")\n",
    "feature_columns = features.columns\n",
    "target = df_ml[\"severity\"]\n",
    "random_under_sampler = RandomUnderSampler()\n",
    "features, target = random_under_sampler.fit_resample(X=features, y=target)\n",
    "\n",
    "MAX_SAMPLE_SIZE, REDUCTION_FACTOR = parameterization.set_parameter(\n",
    "    MAX_SAMPLE_SIZE,\n",
    "    std_value=100_000_000,\n",
    "    fast_value=10_000,\n",
    "    fast_execution=FAST_EXECUTION,\n",
    "    reduction_factor=REDUCTION_FACTOR,\n",
    ")\n",
    "\n",
    "sample_size = len(target)\n",
    "if sample_size > MAX_SAMPLE_SIZE:\n",
    "    sample_idx = sample_without_replacement(\n",
    "        n_population=sample_size, n_samples=MAX_SAMPLE_SIZE, random_state=0\n",
    "    )\n",
    "    features = features.iloc[sample_idx]\n",
    "    target = target.iloc[sample_idx]\n",
    "\n",
    "print(sample_size)"
   ]
  },
  {
   "cell_type": "code",
   "execution_count": 9,
   "id": "6ae92fcb",
   "metadata": {
    "execution": {
     "iopub.execute_input": "2023-03-01T10:12:57.849092Z",
     "iopub.status.busy": "2023-03-01T10:12:57.847094Z",
     "iopub.status.idle": "2023-03-01T10:12:58.025622Z",
     "shell.execute_reply": "2023-03-01T10:12:58.023591Z"
    },
    "papermill": {
     "duration": 0.197173,
     "end_time": "2023-03-01T10:12:58.030637",
     "exception": false,
     "start_time": "2023-03-01T10:12:57.833464",
     "status": "completed"
    },
    "tags": []
   },
   "outputs": [],
   "source": [
    "scaler = StandardScaler()\n",
    "features = scaler.fit_transform(features)"
   ]
  },
  {
   "cell_type": "code",
   "execution_count": 10,
   "id": "51fc8c77",
   "metadata": {
    "execution": {
     "iopub.execute_input": "2023-03-01T10:12:58.081179Z",
     "iopub.status.busy": "2023-03-01T10:12:58.080180Z",
     "iopub.status.idle": "2023-03-01T10:12:58.179801Z",
     "shell.execute_reply": "2023-03-01T10:12:58.177796Z"
    },
    "papermill": {
     "duration": 0.12026,
     "end_time": "2023-03-01T10:12:58.184804",
     "exception": false,
     "start_time": "2023-03-01T10:12:58.064544",
     "status": "completed"
    },
    "tags": []
   },
   "outputs": [],
   "source": [
    "X_train, X_test, y_train, y_test = train_test_split(\n",
    "    features,\n",
    "    target,\n",
    "    test_size=0.2,\n",
    "    random_state=0,\n",
    ")"
   ]
  },
  {
   "cell_type": "code",
   "execution_count": 11,
   "id": "37a26278",
   "metadata": {
    "execution": {
     "iopub.execute_input": "2023-03-01T10:12:58.227754Z",
     "iopub.status.busy": "2023-03-01T10:12:58.226725Z",
     "iopub.status.idle": "2023-03-01T10:12:58.243333Z",
     "shell.execute_reply": "2023-03-01T10:12:58.239341Z"
    },
    "papermill": {
     "duration": 0.037322,
     "end_time": "2023-03-01T10:12:58.248927",
     "exception": false,
     "start_time": "2023-03-01T10:12:58.211605",
     "status": "completed"
    },
    "tags": []
   },
   "outputs": [],
   "source": [
    "# Reconvert the features to DataFrames in order to keep the feature names\n",
    "X_train = pd.DataFrame(data=X_train)\n",
    "X_test = pd.DataFrame(data=X_test)\n",
    "X_train.columns = feature_columns\n",
    "X_test.columns = feature_columns"
   ]
  },
  {
   "attachments": {},
   "cell_type": "markdown",
   "id": "0ee886be",
   "metadata": {
    "papermill": {
     "duration": 0.013627,
     "end_time": "2023-03-01T10:12:58.275139",
     "exception": false,
     "start_time": "2023-03-01T10:12:58.261512",
     "status": "completed"
    },
    "tags": []
   },
   "source": [
    "The preprocessed and splitted dataset will be exported to parquet so that it can be used in\n",
    "notebook 4 (artificial neural networks). Parquet is used again as the file format for its\n",
    "low requirements regarding disk space."
   ]
  },
  {
   "cell_type": "code",
   "execution_count": 12,
   "id": "fd77af76",
   "metadata": {
    "execution": {
     "iopub.execute_input": "2023-03-01T10:12:58.305489Z",
     "iopub.status.busy": "2023-03-01T10:12:58.303891Z",
     "iopub.status.idle": "2023-03-01T10:12:58.870715Z",
     "shell.execute_reply": "2023-03-01T10:12:58.865682Z"
    },
    "lines_to_next_cell": 2,
    "papermill": {
     "duration": 0.587407,
     "end_time": "2023-03-01T10:12:58.876728",
     "exception": false,
     "start_time": "2023-03-01T10:12:58.289321",
     "status": "completed"
    },
    "tags": []
   },
   "outputs": [],
   "source": [
    "TRAIN_FILENAME = \"Xy_train\"\n",
    "TEST_FILENAME = \"Xy_test\"\n",
    "\n",
    "if FAST_EXECUTION:\n",
    "    TRAIN_FILENAME = \"TESTING_\" + TRAIN_FILENAME\n",
    "    TEST_FILENAME = \"TESTING_\" + TEST_FILENAME\n",
    "\n",
    "Xy_train = pd.concat([X_train, y_train.reset_index(drop=True)], axis=1)\n",
    "Xy_test = pd.concat([X_test, y_test.reset_index(drop=True)], axis=1)\n",
    "\n",
    "Xy_train.to_parquet(\"../data/processed/\" + TRAIN_FILENAME + \".parquet\")\n",
    "Xy_test.to_parquet(\"../data/processed/\" + TEST_FILENAME + \".parquet\")"
   ]
  },
  {
   "attachments": {},
   "cell_type": "markdown",
   "id": "0e1638c0",
   "metadata": {
    "papermill": {
     "duration": 0.012023,
     "end_time": "2023-03-01T10:12:58.902827",
     "exception": false,
     "start_time": "2023-03-01T10:12:58.890804",
     "status": "completed"
    },
    "tags": []
   },
   "source": [
    "# XGBoost"
   ]
  },
  {
   "cell_type": "code",
   "execution_count": 13,
   "id": "39b4f8d7",
   "metadata": {
    "execution": {
     "iopub.execute_input": "2023-03-01T10:12:58.930926Z",
     "iopub.status.busy": "2023-03-01T10:12:58.929924Z",
     "iopub.status.idle": "2023-03-01T10:16:19.373063Z",
     "shell.execute_reply": "2023-03-01T10:16:19.371056Z"
    },
    "papermill": {
     "duration": 200.466737,
     "end_time": "2023-03-01T10:16:19.382615",
     "exception": false,
     "start_time": "2023-03-01T10:12:58.915878",
     "status": "completed"
    },
    "tags": []
   },
   "outputs": [
    {
     "name": "stdout",
     "output_type": "stream",
     "text": [
      "Fitting 5 folds for each of 1 candidates, totalling 5 fits\n"
     ]
    },
    {
     "name": "stdout",
     "output_type": "stream",
     "text": [
      "Fitting 5 folds for each of 1 candidates, totalling 5 fits\n"
     ]
    },
    {
     "name": "stdout",
     "output_type": "stream",
     "text": [
      "Fitting 5 folds for each of 1 candidates, totalling 5 fits\n"
     ]
    },
    {
     "name": "stdout",
     "output_type": "stream",
     "text": [
      "Fitting 5 folds for each of 1 candidates, totalling 5 fits\n"
     ]
    },
    {
     "data": {
      "text/html": [
       "<style>#sk-container-id-1 {color: black;background-color: white;}#sk-container-id-1 pre{padding: 0;}#sk-container-id-1 div.sk-toggleable {background-color: white;}#sk-container-id-1 label.sk-toggleable__label {cursor: pointer;display: block;width: 100%;margin-bottom: 0;padding: 0.3em;box-sizing: border-box;text-align: center;}#sk-container-id-1 label.sk-toggleable__label-arrow:before {content: \"▸\";float: left;margin-right: 0.25em;color: #696969;}#sk-container-id-1 label.sk-toggleable__label-arrow:hover:before {color: black;}#sk-container-id-1 div.sk-estimator:hover label.sk-toggleable__label-arrow:before {color: black;}#sk-container-id-1 div.sk-toggleable__content {max-height: 0;max-width: 0;overflow: hidden;text-align: left;background-color: #f0f8ff;}#sk-container-id-1 div.sk-toggleable__content pre {margin: 0.2em;color: black;border-radius: 0.25em;background-color: #f0f8ff;}#sk-container-id-1 input.sk-toggleable__control:checked~div.sk-toggleable__content {max-height: 200px;max-width: 100%;overflow: auto;}#sk-container-id-1 input.sk-toggleable__control:checked~label.sk-toggleable__label-arrow:before {content: \"▾\";}#sk-container-id-1 div.sk-estimator input.sk-toggleable__control:checked~label.sk-toggleable__label {background-color: #d4ebff;}#sk-container-id-1 div.sk-label input.sk-toggleable__control:checked~label.sk-toggleable__label {background-color: #d4ebff;}#sk-container-id-1 input.sk-hidden--visually {border: 0;clip: rect(1px 1px 1px 1px);clip: rect(1px, 1px, 1px, 1px);height: 1px;margin: -1px;overflow: hidden;padding: 0;position: absolute;width: 1px;}#sk-container-id-1 div.sk-estimator {font-family: monospace;background-color: #f0f8ff;border: 1px dotted black;border-radius: 0.25em;box-sizing: border-box;margin-bottom: 0.5em;}#sk-container-id-1 div.sk-estimator:hover {background-color: #d4ebff;}#sk-container-id-1 div.sk-parallel-item::after {content: \"\";width: 100%;border-bottom: 1px solid gray;flex-grow: 1;}#sk-container-id-1 div.sk-label:hover label.sk-toggleable__label {background-color: #d4ebff;}#sk-container-id-1 div.sk-serial::before {content: \"\";position: absolute;border-left: 1px solid gray;box-sizing: border-box;top: 0;bottom: 0;left: 50%;z-index: 0;}#sk-container-id-1 div.sk-serial {display: flex;flex-direction: column;align-items: center;background-color: white;padding-right: 0.2em;padding-left: 0.2em;position: relative;}#sk-container-id-1 div.sk-item {position: relative;z-index: 1;}#sk-container-id-1 div.sk-parallel {display: flex;align-items: stretch;justify-content: center;background-color: white;position: relative;}#sk-container-id-1 div.sk-item::before, #sk-container-id-1 div.sk-parallel-item::before {content: \"\";position: absolute;border-left: 1px solid gray;box-sizing: border-box;top: 0;bottom: 0;left: 50%;z-index: -1;}#sk-container-id-1 div.sk-parallel-item {display: flex;flex-direction: column;z-index: 1;position: relative;background-color: white;}#sk-container-id-1 div.sk-parallel-item:first-child::after {align-self: flex-end;width: 50%;}#sk-container-id-1 div.sk-parallel-item:last-child::after {align-self: flex-start;width: 50%;}#sk-container-id-1 div.sk-parallel-item:only-child::after {width: 0;}#sk-container-id-1 div.sk-dashed-wrapped {border: 1px dashed gray;margin: 0 0.4em 0.5em 0.4em;box-sizing: border-box;padding-bottom: 0.4em;background-color: white;}#sk-container-id-1 div.sk-label label {font-family: monospace;font-weight: bold;display: inline-block;line-height: 1.2em;}#sk-container-id-1 div.sk-label-container {text-align: center;}#sk-container-id-1 div.sk-container {/* jupyter's `normalize.less` sets `[hidden] { display: none; }` but bootstrap.min.css set `[hidden] { display: none !important; }` so we also need the `!important` here to be able to override the default hidden behavior on the sphinx rendered scikit-learn.org. See: https://github.com/scikit-learn/scikit-learn/issues/21755 */display: inline-block !important;position: relative;}#sk-container-id-1 div.sk-text-repr-fallback {display: none;}</style><div id=\"sk-container-id-1\" class=\"sk-top-container\"><div class=\"sk-text-repr-fallback\"><pre>BayesSearchCV(cv=5,\n",
       "              estimator=XGBClassifier(base_score=None, booster=None,\n",
       "                                      callbacks=None, colsample_bylevel=None,\n",
       "                                      colsample_bynode=None,\n",
       "                                      colsample_bytree=None,\n",
       "                                      early_stopping_rounds=None,\n",
       "                                      enable_categorical=False,\n",
       "                                      eval_metric=None, feature_types=None,\n",
       "                                      gamma=None, gpu_id=None, grow_policy=None,\n",
       "                                      importance_type=None,\n",
       "                                      interaction_constraints=None,\n",
       "                                      learning_rate=None...\n",
       "                                      max_cat_threshold=None,\n",
       "                                      max_cat_to_onehot=None,\n",
       "                                      max_delta_step=None, max_depth=None,\n",
       "                                      max_leaves=None, min_child_weight=None,\n",
       "                                      missing=nan, monotone_constraints=None,\n",
       "                                      n_estimators=100, n_jobs=4,\n",
       "                                      num_parallel_tree=None, predictor=None,\n",
       "                                      random_state=None, ...),\n",
       "              n_iter=4, n_jobs=2,\n",
       "              search_spaces={&#x27;learning_rate&#x27;: [0.05, 0.1],\n",
       "                             &#x27;max_depth&#x27;: [2, 4, 6],\n",
       "                             &#x27;n_estimators&#x27;: [100, 200]},\n",
       "              verbose=3)</pre><b>In a Jupyter environment, please rerun this cell to show the HTML representation or trust the notebook. <br />On GitHub, the HTML representation is unable to render, please try loading this page with nbviewer.org.</b></div><div class=\"sk-container\" hidden><div class=\"sk-item sk-dashed-wrapped\"><div class=\"sk-label-container\"><div class=\"sk-label sk-toggleable\"><input class=\"sk-toggleable__control sk-hidden--visually\" id=\"sk-estimator-id-1\" type=\"checkbox\" ><label for=\"sk-estimator-id-1\" class=\"sk-toggleable__label sk-toggleable__label-arrow\">BayesSearchCV</label><div class=\"sk-toggleable__content\"><pre>BayesSearchCV(cv=5,\n",
       "              estimator=XGBClassifier(base_score=None, booster=None,\n",
       "                                      callbacks=None, colsample_bylevel=None,\n",
       "                                      colsample_bynode=None,\n",
       "                                      colsample_bytree=None,\n",
       "                                      early_stopping_rounds=None,\n",
       "                                      enable_categorical=False,\n",
       "                                      eval_metric=None, feature_types=None,\n",
       "                                      gamma=None, gpu_id=None, grow_policy=None,\n",
       "                                      importance_type=None,\n",
       "                                      interaction_constraints=None,\n",
       "                                      learning_rate=None...\n",
       "                                      max_cat_threshold=None,\n",
       "                                      max_cat_to_onehot=None,\n",
       "                                      max_delta_step=None, max_depth=None,\n",
       "                                      max_leaves=None, min_child_weight=None,\n",
       "                                      missing=nan, monotone_constraints=None,\n",
       "                                      n_estimators=100, n_jobs=4,\n",
       "                                      num_parallel_tree=None, predictor=None,\n",
       "                                      random_state=None, ...),\n",
       "              n_iter=4, n_jobs=2,\n",
       "              search_spaces={&#x27;learning_rate&#x27;: [0.05, 0.1],\n",
       "                             &#x27;max_depth&#x27;: [2, 4, 6],\n",
       "                             &#x27;n_estimators&#x27;: [100, 200]},\n",
       "              verbose=3)</pre></div></div></div><div class=\"sk-parallel\"><div class=\"sk-parallel-item\"><div class=\"sk-item\"><div class=\"sk-label-container\"><div class=\"sk-label sk-toggleable\"><input class=\"sk-toggleable__control sk-hidden--visually\" id=\"sk-estimator-id-2\" type=\"checkbox\" ><label for=\"sk-estimator-id-2\" class=\"sk-toggleable__label sk-toggleable__label-arrow\">estimator: XGBClassifier</label><div class=\"sk-toggleable__content\"><pre>XGBClassifier(base_score=None, booster=None, callbacks=None,\n",
       "              colsample_bylevel=None, colsample_bynode=None,\n",
       "              colsample_bytree=None, early_stopping_rounds=None,\n",
       "              enable_categorical=False, eval_metric=None, feature_types=None,\n",
       "              gamma=None, gpu_id=None, grow_policy=None, importance_type=None,\n",
       "              interaction_constraints=None, learning_rate=None, max_bin=None,\n",
       "              max_cat_threshold=None, max_cat_to_onehot=None,\n",
       "              max_delta_step=None, max_depth=None, max_leaves=None,\n",
       "              min_child_weight=None, missing=nan, monotone_constraints=None,\n",
       "              n_estimators=100, n_jobs=4, num_parallel_tree=None,\n",
       "              predictor=None, random_state=None, ...)</pre></div></div></div><div class=\"sk-serial\"><div class=\"sk-item\"><div class=\"sk-estimator sk-toggleable\"><input class=\"sk-toggleable__control sk-hidden--visually\" id=\"sk-estimator-id-3\" type=\"checkbox\" ><label for=\"sk-estimator-id-3\" class=\"sk-toggleable__label sk-toggleable__label-arrow\">XGBClassifier</label><div class=\"sk-toggleable__content\"><pre>XGBClassifier(base_score=None, booster=None, callbacks=None,\n",
       "              colsample_bylevel=None, colsample_bynode=None,\n",
       "              colsample_bytree=None, early_stopping_rounds=None,\n",
       "              enable_categorical=False, eval_metric=None, feature_types=None,\n",
       "              gamma=None, gpu_id=None, grow_policy=None, importance_type=None,\n",
       "              interaction_constraints=None, learning_rate=None, max_bin=None,\n",
       "              max_cat_threshold=None, max_cat_to_onehot=None,\n",
       "              max_delta_step=None, max_depth=None, max_leaves=None,\n",
       "              min_child_weight=None, missing=nan, monotone_constraints=None,\n",
       "              n_estimators=100, n_jobs=4, num_parallel_tree=None,\n",
       "              predictor=None, random_state=None, ...)</pre></div></div></div></div></div></div></div></div></div></div>"
      ],
      "text/plain": [
       "BayesSearchCV(cv=5,\n",
       "              estimator=XGBClassifier(base_score=None, booster=None,\n",
       "                                      callbacks=None, colsample_bylevel=None,\n",
       "                                      colsample_bynode=None,\n",
       "                                      colsample_bytree=None,\n",
       "                                      early_stopping_rounds=None,\n",
       "                                      enable_categorical=False,\n",
       "                                      eval_metric=None, feature_types=None,\n",
       "                                      gamma=None, gpu_id=None, grow_policy=None,\n",
       "                                      importance_type=None,\n",
       "                                      interaction_constraints=None,\n",
       "                                      learning_rate=None...\n",
       "                                      max_cat_threshold=None,\n",
       "                                      max_cat_to_onehot=None,\n",
       "                                      max_delta_step=None, max_depth=None,\n",
       "                                      max_leaves=None, min_child_weight=None,\n",
       "                                      missing=nan, monotone_constraints=None,\n",
       "                                      n_estimators=100, n_jobs=4,\n",
       "                                      num_parallel_tree=None, predictor=None,\n",
       "                                      random_state=None, ...),\n",
       "              n_iter=4, n_jobs=2,\n",
       "              search_spaces={'learning_rate': [0.05, 0.1],\n",
       "                             'max_depth': [2, 4, 6],\n",
       "                             'n_estimators': [100, 200]},\n",
       "              verbose=3)"
      ]
     },
     "execution_count": 13,
     "metadata": {},
     "output_type": "execute_result"
    }
   ],
   "source": [
    "N_CV, REDUCTION_FACTOR = parameterization.set_parameter(\n",
    "    N_CV,\n",
    "    std_value=20,\n",
    "    fast_value=2,\n",
    "    fast_execution=FAST_EXECUTION,\n",
    "    reduction_factor=REDUCTION_FACTOR,\n",
    ")\n",
    "\n",
    "xgb_clf = XGBClassifier(n_jobs=multiprocessing.cpu_count() // 2)\n",
    "\n",
    "param_grid = {\n",
    "    \"max_depth\": [2, 4, 6],\n",
    "    \"n_estimators\": [100, 200],\n",
    "    \"learning_rate\": [0.05, 0.1],\n",
    "}\n",
    "\n",
    "\n",
    "bayes_search = BayesSearchCV(\n",
    "    xgb_clf, param_grid, cv=N_CV, n_jobs=2, n_iter=4, verbose=3\n",
    ")\n",
    "bayes_search.fit(X_train, y_train)"
   ]
  },
  {
   "cell_type": "code",
   "execution_count": 14,
   "id": "b192bf9f",
   "metadata": {
    "execution": {
     "iopub.execute_input": "2023-03-01T10:16:19.405319Z",
     "iopub.status.busy": "2023-03-01T10:16:19.403322Z",
     "iopub.status.idle": "2023-03-01T10:16:19.482646Z",
     "shell.execute_reply": "2023-03-01T10:16:19.480642Z"
    },
    "papermill": {
     "duration": 0.093476,
     "end_time": "2023-03-01T10:16:19.485645",
     "exception": false,
     "start_time": "2023-03-01T10:16:19.392169",
     "status": "completed"
    },
    "tags": []
   },
   "outputs": [
    {
     "name": "stdout",
     "output_type": "stream",
     "text": [
      "              precision    recall  f1-score   support\n",
      "\n",
      "           0       0.54      0.74      0.62      1869\n",
      "           1       0.53      0.27      0.36      1906\n",
      "           2       0.64      0.72      0.68      1924\n",
      "\n",
      "    accuracy                           0.57      5699\n",
      "   macro avg       0.57      0.58      0.55      5699\n",
      "weighted avg       0.57      0.57      0.55      5699\n",
      "\n"
     ]
    }
   ],
   "source": [
    "best_xgb = bayes_search.best_estimator_\n",
    "y_pred = best_xgb.predict(X_test)\n",
    "print(classification_report(y_true=y_test, y_pred=y_pred))"
   ]
  },
  {
   "attachments": {},
   "cell_type": "markdown",
   "id": "dbac0d4d",
   "metadata": {
    "papermill": {
     "duration": 0.009003,
     "end_time": "2023-03-01T10:16:19.503656",
     "exception": false,
     "start_time": "2023-03-01T10:16:19.494653",
     "status": "completed"
    },
    "tags": []
   },
   "source": [
    "When interpreting precision and recall for machine learning models, it is important to keep in\n",
    "mind, that the test data is balanced while the real-world data is not. That means, that we would\n",
    "expect an accuracy of 0.33 for a random guess.\n",
    "\n",
    "The model does a good job predicting deadly injuries. Unharmed persons are detected with a high\n",
    "recall but with lower precision. It shows a lower performance for injured persons. Here,\n",
    "especially the recall is very low."
   ]
  },
  {
   "cell_type": "code",
   "execution_count": 15,
   "id": "c58f6ada",
   "metadata": {
    "execution": {
     "iopub.execute_input": "2023-03-01T10:16:19.526668Z",
     "iopub.status.busy": "2023-03-01T10:16:19.525679Z",
     "iopub.status.idle": "2023-03-01T10:16:19.951305Z",
     "shell.execute_reply": "2023-03-01T10:16:19.949287Z"
    },
    "papermill": {
     "duration": 0.439148,
     "end_time": "2023-03-01T10:16:19.953821",
     "exception": false,
     "start_time": "2023-03-01T10:16:19.514673",
     "status": "completed"
    },
    "tags": []
   },
   "outputs": [
    {
     "data": {
      "image/png": "[encoded data removed]",
      "text/plain": [
       "<Figure size 640x480 with 1 Axes>"
      ]
     },
     "metadata": {},
     "output_type": "display_data"
    }
   ],
   "source": [
    "p = plot_importance(best_xgb, max_num_features=N_PLOT, height=0.8, grid=\"off\")\n",
    "p.grid(False)"
   ]
  },
  {
   "attachments": {},
   "cell_type": "markdown",
   "id": "284b28d1",
   "metadata": {
    "papermill": {
     "duration": 0.007529,
     "end_time": "2023-03-01T10:16:19.968880",
     "exception": false,
     "start_time": "2023-03-01T10:16:19.961351",
     "status": "completed"
    },
    "tags": []
   },
   "source": [
    "The feature importance plot enables us to identify the most important features used by XGBoost\n",
    "for the classification problem.\n",
    "It seems like the location (represented by longitude and latitude) has the highest importance\n",
    "in this case."
   ]
  },
  {
   "attachments": {},
   "cell_type": "markdown",
   "id": "6d7f965f",
   "metadata": {
    "papermill": {
     "duration": 0.013378,
     "end_time": "2023-03-01T10:16:19.989777",
     "exception": false,
     "start_time": "2023-03-01T10:16:19.976399",
     "status": "completed"
    },
    "tags": []
   },
   "source": [
    "# Random Forest"
   ]
  },
  {
   "cell_type": "code",
   "execution_count": 16,
   "id": "1fa1ad53",
   "metadata": {
    "execution": {
     "iopub.execute_input": "2023-03-01T10:16:20.010707Z",
     "iopub.status.busy": "2023-03-01T10:16:20.010707Z",
     "iopub.status.idle": "2023-03-01T10:16:26.623577Z",
     "shell.execute_reply": "2023-03-01T10:16:26.621559Z"
    },
    "papermill": {
     "duration": 6.629253,
     "end_time": "2023-03-01T10:16:26.626571",
     "exception": false,
     "start_time": "2023-03-01T10:16:19.997318",
     "status": "completed"
    },
    "tags": []
   },
   "outputs": [
    {
     "name": "stdout",
     "output_type": "stream",
     "text": [
      "              precision    recall  f1-score   support\n",
      "\n",
      "           0       0.52      0.64      0.57      1869\n",
      "           1       0.47      0.34      0.39      1906\n",
      "           2       0.64      0.68      0.66      1924\n",
      "\n",
      "    accuracy                           0.55      5699\n",
      "   macro avg       0.54      0.55      0.54      5699\n",
      "weighted avg       0.55      0.55      0.54      5699\n",
      "\n"
     ]
    }
   ],
   "source": [
    "N_RANDOM_FOREST_ESTIMATORS, REDUCTION_FACTOR = parameterization.set_parameter(\n",
    "    N_RANDOM_FOREST_ESTIMATORS,\n",
    "    std_value=100,\n",
    "    fast_value=10,\n",
    "    fast_execution=FAST_EXECUTION,\n",
    "    reduction_factor=REDUCTION_FACTOR,\n",
    ")\n",
    "\n",
    "random_forest_clf = RandomForestClassifier(n_estimators=N_RANDOM_FOREST_ESTIMATORS)\n",
    "random_forest_clf.fit(X_train, y_train)\n",
    "y_pred_rf = random_forest_clf.predict(X_test)\n",
    "print(classification_report(y_true=y_test, y_pred=y_pred_rf))"
   ]
  },
  {
   "attachments": {},
   "cell_type": "markdown",
   "id": "fbf3b371",
   "metadata": {
    "papermill": {
     "duration": 0.011303,
     "end_time": "2023-03-01T10:16:26.645875",
     "exception": false,
     "start_time": "2023-03-01T10:16:26.634572",
     "status": "completed"
    },
    "tags": []
   },
   "source": [
    "## Interpretation with Means of Permutation Importance\n",
    "Random Forests can be interpreted with impurity-based feature importance, but this approach\n",
    "has some downsides.\n",
    "I will therefore use permutation feature importance to analyze the model. For this, I will\n",
    "calculate the feature importance weights for both the training and the test set and compare them.\n",
    "Those features that show a high # difference # between the calculated values for training and\n",
    "test set are considered to be causal for overfitting."
   ]
  },
  {
   "cell_type": "code",
   "execution_count": 17,
   "id": "b5a20556",
   "metadata": {
    "execution": {
     "iopub.execute_input": "2023-03-01T10:16:26.664852Z",
     "iopub.status.busy": "2023-03-01T10:16:26.663853Z",
     "iopub.status.idle": "2023-03-01T10:37:12.836630Z",
     "shell.execute_reply": "2023-03-01T10:37:12.835620Z"
    },
    "papermill": {
     "duration": 1246.185747,
     "end_time": "2023-03-01T10:37:12.839620",
     "exception": false,
     "start_time": "2023-03-01T10:16:26.653873",
     "status": "completed"
    },
    "tags": []
   },
   "outputs": [],
   "source": [
    "# The permutation performance takes a while to compute.\n",
    "N_PERMUTATION_REPETITIONS, REDUCTION_FACTOR = parameterization.set_parameter(\n",
    "    N_PERMUTATION_REPETITIONS,\n",
    "    std_value=10,\n",
    "    fast_value=1,\n",
    "    fast_execution=FAST_EXECUTION,\n",
    "    reduction_factor=REDUCTION_FACTOR,\n",
    ")\n",
    "\n",
    "r_train = permutation_importance(\n",
    "    random_forest_clf,\n",
    "    X_train,\n",
    "    y_train,\n",
    "    n_repeats=N_PERMUTATION_REPETITIONS,\n",
    "    random_state=0,\n",
    ")\n",
    "r_test = permutation_importance(\n",
    "    random_forest_clf,\n",
    "    X_test,\n",
    "    y_test,\n",
    "    n_repeats=N_PERMUTATION_REPETITIONS,\n",
    "    random_state=0,\n",
    ")"
   ]
  },
  {
   "cell_type": "code",
   "execution_count": 18,
   "id": "9768a793",
   "metadata": {
    "execution": {
     "iopub.execute_input": "2023-03-01T10:37:12.861663Z",
     "iopub.status.busy": "2023-03-01T10:37:12.860677Z",
     "iopub.status.idle": "2023-03-01T10:37:12.884381Z",
     "shell.execute_reply": "2023-03-01T10:37:12.882645Z"
    },
    "papermill": {
     "duration": 0.036767,
     "end_time": "2023-03-01T10:37:12.886904",
     "exception": false,
     "start_time": "2023-03-01T10:37:12.850137",
     "status": "completed"
    },
    "tags": []
   },
   "outputs": [],
   "source": [
    "importances_mean_df = pd.DataFrame(index=feature_columns)\n",
    "importances_std_df = pd.DataFrame(index=feature_columns)\n",
    "\n",
    "importances_mean_df[\"train\"] = r_train.importances_mean\n",
    "importances_mean_df[\"test\"] = r_test.importances_mean\n",
    "\n",
    "importances_std_df[\"train\"] = r_train.importances_std\n",
    "importances_std_df[\"test\"] = r_test.importances_std\n",
    "\n",
    "importances_mean_df[\"train_test_diff\"] = abs(\n",
    "    importances_mean_df[\"test\"] - importances_mean_df[\"train\"]\n",
    ")\n",
    "importances_mean_df.sort_values(by=\"train_test_diff\", ascending=False, inplace=True)\n",
    "importances_mean_df.drop(columns=[\"train_test_diff\"], inplace=True)\n",
    "importances_std_df = importances_std_df.reindex_like(importances_mean_df)"
   ]
  },
  {
   "cell_type": "code",
   "execution_count": 19,
   "id": "9bbca3b6",
   "metadata": {
    "execution": {
     "iopub.execute_input": "2023-03-01T10:37:12.908398Z",
     "iopub.status.busy": "2023-03-01T10:37:12.907101Z",
     "iopub.status.idle": "2023-03-01T10:37:13.449487Z",
     "shell.execute_reply": "2023-03-01T10:37:13.447482Z"
    },
    "papermill": {
     "duration": 0.556569,
     "end_time": "2023-03-01T10:37:13.452486",
     "exception": false,
     "start_time": "2023-03-01T10:37:12.895917",
     "status": "completed"
    },
    "tags": []
   },
   "outputs": [
    {
     "data": {
      "text/plain": [
       "Text(0, 0.5, 'feature')"
      ]
     },
     "execution_count": 19,
     "metadata": {},
     "output_type": "execute_result"
    },
    {
     "data": {
      "image/png": "[encoded data removed]",
      "text/plain": [
       "<Figure size 640x480 with 1 Axes>"
      ]
     },
     "metadata": {},
     "output_type": "display_data"
    }
   ],
   "source": [
    "importances_mean_df[[\"train\", \"test\"]].head(N_PLOT).plot(\n",
    "    kind=\"barh\", capsize=2, xerr=importances_std_df.head(N_PLOT), stacked=True\n",
    ")\n",
    "plt.title(\"Features with High Difference in Importance between Train and Test Set\")\n",
    "plt.xlabel(\"\")\n",
    "plt.ylabel(\"feature\")"
   ]
  },
  {
   "cell_type": "code",
   "execution_count": 20,
   "id": "b46192df",
   "metadata": {
    "execution": {
     "iopub.execute_input": "2023-03-01T10:37:13.474009Z",
     "iopub.status.busy": "2023-03-01T10:37:13.474009Z",
     "iopub.status.idle": "2023-03-01T10:37:13.830734Z",
     "shell.execute_reply": "2023-03-01T10:37:13.827835Z"
    },
    "papermill": {
     "duration": 0.373296,
     "end_time": "2023-03-01T10:37:13.833733",
     "exception": false,
     "start_time": "2023-03-01T10:37:13.460437",
     "status": "completed"
    },
    "tags": []
   },
   "outputs": [
    {
     "data": {
      "text/plain": [
       "<Axes: xlabel='train'>"
      ]
     },
     "execution_count": 20,
     "metadata": {},
     "output_type": "execute_result"
    },
    {
     "data": {
      "image/png": "[encoded data removed]",
      "text/plain": [
       "<Figure size 640x480 with 1 Axes>"
      ]
     },
     "metadata": {},
     "output_type": "display_data"
    }
   ],
   "source": [
    "importances_mean_df.sort_values(\"train\", ascending=False, inplace=True)\n",
    "importances_std_df = importances_std_df.reindex_like(importances_mean_df)\n",
    "sns.barplot(\n",
    "    data=importances_mean_df.head(N_PLOT),\n",
    "    x=\"train\",\n",
    "    y=importances_mean_df.head(N_PLOT).index.values,\n",
    "    xerr=importances_std_df[\"train\"].head(N_PLOT),\n",
    "    capsize=1.0,\n",
    "    ecolor=\"white\",\n",
    ")"
   ]
  }
 ],
 "metadata": {
  "jupytext": {
   "cell_metadata_filter": "tags,-LanguageId",
   "main_language": "python",
   "notebook_metadata_filter": "-kernelspec"
  },
  "kernelspec": {
   "display_name": "roafr_env",
   "language": "python",
   "name": "python3"
  },
  "language_info": {
   "codemirror_mode": {
    "name": "ipython",
    "version": 3
   },
   "file_extension": ".py",
   "mimetype": "text/x-python",
   "name": "python",
   "nbconvert_exporter": "python",
   "pygments_lexer": "ipython3",
   "version": "3.10.4"
  },
  "papermill": {
   "default_parameters": {},
   "duration": 1482.436249,
   "end_time": "2023-03-01T10:37:14.745177",
   "environment_variables": {},
   "exception": null,
   "input_path": "nb_3.ipynb",
   "output_path": "VIEW_nb_3.ipynb",
   "parameters": {},
   "start_time": "2023-03-01T10:12:32.308928",
   "version": "2.4.0"
  },
  "vscode": {
   "interpreter": {
    "hash": "be0ba73e310e3c3b28d8589ae8f828130433d78505c5448e90afacedd90c6969"
   }
  }
 },
 "nbformat": 4,
 "nbformat_minor": 5
}